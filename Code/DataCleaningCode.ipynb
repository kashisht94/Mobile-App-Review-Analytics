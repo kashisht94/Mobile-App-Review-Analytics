{
 "cells": [
  {
   "cell_type": "code",
   "execution_count": 3,
   "metadata": {},
   "outputs": [
    {
     "name": "stdout",
     "output_type": "stream",
     "text": [
      "Requirement already satisfied: imbalanced-learn in /Users/bhavikpatel/anaconda3/lib/python3.11/site-packages (0.11.0)\n",
      "Requirement already satisfied: scikit-learn in /Users/bhavikpatel/anaconda3/lib/python3.11/site-packages (1.3.2)\n",
      "Requirement already satisfied: numpy>=1.17.3 in /Users/bhavikpatel/anaconda3/lib/python3.11/site-packages (from imbalanced-learn) (1.24.3)\n",
      "Requirement already satisfied: scipy>=1.5.0 in /Users/bhavikpatel/anaconda3/lib/python3.11/site-packages (from imbalanced-learn) (1.10.1)\n",
      "Requirement already satisfied: joblib>=1.1.1 in /Users/bhavikpatel/anaconda3/lib/python3.11/site-packages (from imbalanced-learn) (1.2.0)\n",
      "Requirement already satisfied: threadpoolctl>=2.0.0 in /Users/bhavikpatel/anaconda3/lib/python3.11/site-packages (from imbalanced-learn) (2.2.0)\n"
     ]
    }
   ],
   "source": [
    "!pip install -U imbalanced-learn scikit-learn"
   ]
  },
  {
   "cell_type": "code",
   "execution_count": 4,
   "metadata": {},
   "outputs": [
    {
     "name": "stdout",
     "output_type": "stream",
     "text": [
      "Requirement already satisfied: scikit-learn in /Users/bhavikpatel/anaconda3/lib/python3.11/site-packages (1.3.2)\n",
      "Requirement already satisfied: imbalanced-learn in /Users/bhavikpatel/anaconda3/lib/python3.11/site-packages (0.11.0)\n",
      "Requirement already satisfied: numpy<2.0,>=1.17.3 in /Users/bhavikpatel/anaconda3/lib/python3.11/site-packages (from scikit-learn) (1.24.3)\n",
      "Requirement already satisfied: scipy>=1.5.0 in /Users/bhavikpatel/anaconda3/lib/python3.11/site-packages (from scikit-learn) (1.10.1)\n",
      "Requirement already satisfied: joblib>=1.1.1 in /Users/bhavikpatel/anaconda3/lib/python3.11/site-packages (from scikit-learn) (1.2.0)\n",
      "Requirement already satisfied: threadpoolctl>=2.0.0 in /Users/bhavikpatel/anaconda3/lib/python3.11/site-packages (from scikit-learn) (2.2.0)\n"
     ]
    }
   ],
   "source": [
    "!pip install --upgrade scikit-learn imbalanced-learn\n"
   ]
  },
  {
   "cell_type": "code",
   "execution_count": 5,
   "metadata": {
    "colab": {
     "base_uri": "https://localhost:8080/"
    },
    "executionInfo": {
     "elapsed": 20914,
     "status": "ok",
     "timestamp": 1700439405736,
     "user": {
      "displayName": "Kashish Thakur",
      "userId": "02034585595225747286"
     },
     "user_tz": 480
    },
    "id": "_9NZbmEfFWEs",
    "outputId": "f4c0ece1-214d-408f-d6d9-468c4c2e3fd1"
   },
   "outputs": [
    {
     "name": "stderr",
     "output_type": "stream",
     "text": [
      "[nltk_data] Downloading package stopwords to\n",
      "[nltk_data]     /Users/bhavikpatel/nltk_data...\n",
      "[nltk_data]   Package stopwords is already up-to-date!\n"
     ]
    },
    {
     "name": "stdout",
     "output_type": "stream",
     "text": [
      "Requirement already satisfied: emoji in /Users/bhavikpatel/anaconda3/lib/python3.11/site-packages (2.8.0)\n",
      "Requirement already satisfied: tweepy in /Users/bhavikpatel/anaconda3/lib/python3.11/site-packages (4.14.0)\n",
      "Requirement already satisfied: oauthlib<4,>=3.2.0 in /Users/bhavikpatel/anaconda3/lib/python3.11/site-packages (from tweepy) (3.2.2)\n",
      "Requirement already satisfied: requests<3,>=2.27.0 in /Users/bhavikpatel/anaconda3/lib/python3.11/site-packages (from tweepy) (2.31.0)\n",
      "Requirement already satisfied: requests-oauthlib<2,>=1.2.0 in /Users/bhavikpatel/anaconda3/lib/python3.11/site-packages (from tweepy) (1.3.1)\n",
      "Requirement already satisfied: charset-normalizer<4,>=2 in /Users/bhavikpatel/anaconda3/lib/python3.11/site-packages (from requests<3,>=2.27.0->tweepy) (2.0.4)\n",
      "Requirement already satisfied: idna<4,>=2.5 in /Users/bhavikpatel/anaconda3/lib/python3.11/site-packages (from requests<3,>=2.27.0->tweepy) (3.4)\n",
      "Requirement already satisfied: urllib3<3,>=1.21.1 in /Users/bhavikpatel/anaconda3/lib/python3.11/site-packages (from requests<3,>=2.27.0->tweepy) (1.26.16)\n",
      "Requirement already satisfied: certifi>=2017.4.17 in /Users/bhavikpatel/anaconda3/lib/python3.11/site-packages (from requests<3,>=2.27.0->tweepy) (2023.7.22)\n"
     ]
    }
   ],
   "source": [
    "import numpy as np\n",
    "import pandas as pd\n",
    "import os\n",
    "import tweepy as tw\n",
    "import re    # it is RegEx useed to remove non-letter characters\n",
    "import nltk\n",
    "\n",
    "nltk.download(\"stopwords\")\n",
    "from nltk.corpus import stopwords\n",
    "from nltk.stem.porter import *\n",
    "\n",
    "# For Building the model\n",
    "from sklearn.model_selection import train_test_split\n",
    "import tensorflow as tf\n",
    "import seaborn as sns\n",
    "\n",
    "#For data visualization\n",
    "import matplotlib.pyplot as plt\n",
    "import matplotlib.patches as mpatches\n",
    "%matplotlib inline\n",
    "\n",
    "pd.options.plotting.backend = \"plotly\"\n",
    "\n",
    "\n",
    "!pip install emoji\n",
    "\n",
    "!pip install tweepy"
   ]
  },
  {
   "cell_type": "markdown",
   "metadata": {
    "id": "n_vmAxq-FPAe"
   },
   "source": [
    "## Fetching the newly created merged dataset using a Dataframe"
   ]
  },
  {
   "cell_type": "code",
   "execution_count": 6,
   "metadata": {
    "executionInfo": {
     "elapsed": 11213,
     "status": "ok",
     "timestamp": 1700455830160,
     "user": {
      "displayName": "Kashish Thakur",
      "userId": "02034585595225747286"
     },
     "user_tz": 480
    },
    "id": "c1A7In8TFFjk"
   },
   "outputs": [],
   "source": [
    "path='/Users/bhavikpatel/Desktop/poject MSDA/Data 270/project/gwar project data/merged_raw_dataset.csv'\n",
    "df1=pd.read_csv(path)"
   ]
  },
  {
   "cell_type": "code",
   "execution_count": 8,
   "metadata": {},
   "outputs": [
    {
     "data": {
      "text/html": [
       "<div>\n",
       "<style scoped>\n",
       "    .dataframe tbody tr th:only-of-type {\n",
       "        vertical-align: middle;\n",
       "    }\n",
       "\n",
       "    .dataframe tbody tr th {\n",
       "        vertical-align: top;\n",
       "    }\n",
       "\n",
       "    .dataframe thead th {\n",
       "        text-align: right;\n",
       "    }\n",
       "</style>\n",
       "<table border=\"1\" class=\"dataframe\">\n",
       "  <thead>\n",
       "    <tr style=\"text-align: right;\">\n",
       "      <th></th>\n",
       "      <th>Unnamed: 0</th>\n",
       "      <th>reviewId</th>\n",
       "      <th>userName</th>\n",
       "      <th>userImage</th>\n",
       "      <th>content</th>\n",
       "      <th>score</th>\n",
       "      <th>thumbsUpCount</th>\n",
       "      <th>reviewCreatedVersion</th>\n",
       "      <th>at</th>\n",
       "      <th>replyContent</th>\n",
       "      <th>repliedAt</th>\n",
       "      <th>appVersion</th>\n",
       "      <th>AppName</th>\n",
       "      <th>App Domain</th>\n",
       "    </tr>\n",
       "  </thead>\n",
       "  <tbody>\n",
       "    <tr>\n",
       "      <th>0</th>\n",
       "      <td>0.0</td>\n",
       "      <td>af1da1e9-9001-408e-906b-687da4cef506</td>\n",
       "      <td>Micah Medina</td>\n",
       "      <td>https://play-lh.googleusercontent.com/a/ACg8oc...</td>\n",
       "      <td>I have gotten some really good deals with this...</td>\n",
       "      <td>5</td>\n",
       "      <td>340</td>\n",
       "      <td>136.1</td>\n",
       "      <td>2021-08-27 14:42:00</td>\n",
       "      <td>NaN</td>\n",
       "      <td>NaN</td>\n",
       "      <td>136.1</td>\n",
       "      <td>Cheapflights</td>\n",
       "      <td>Flight Booking</td>\n",
       "    </tr>\n",
       "    <tr>\n",
       "      <th>1</th>\n",
       "      <td>1.0</td>\n",
       "      <td>8294ecdf-7af6-4621-ad63-0602c3b69d56</td>\n",
       "      <td>Shreeya Sengupta</td>\n",
       "      <td>https://play-lh.googleusercontent.com/a-/ALV-U...</td>\n",
       "      <td>Cheap flights is very helpful when planning tr...</td>\n",
       "      <td>5</td>\n",
       "      <td>80</td>\n",
       "      <td>186.0</td>\n",
       "      <td>2023-08-18 18:59:59</td>\n",
       "      <td>NaN</td>\n",
       "      <td>NaN</td>\n",
       "      <td>186.0</td>\n",
       "      <td>Cheapflights</td>\n",
       "      <td>Flight Booking</td>\n",
       "    </tr>\n",
       "    <tr>\n",
       "      <th>2</th>\n",
       "      <td>2.0</td>\n",
       "      <td>819f6d11-25f8-4a78-9410-5e76504c6d22</td>\n",
       "      <td>Palei Fonua Liua</td>\n",
       "      <td>https://play-lh.googleusercontent.com/a/ACg8oc...</td>\n",
       "      <td>I'll look for flights from this app, but as fa...</td>\n",
       "      <td>1</td>\n",
       "      <td>97</td>\n",
       "      <td>184.1</td>\n",
       "      <td>2023-07-14 12:27:40</td>\n",
       "      <td>NaN</td>\n",
       "      <td>NaN</td>\n",
       "      <td>184.1</td>\n",
       "      <td>Cheapflights</td>\n",
       "      <td>Flight Booking</td>\n",
       "    </tr>\n",
       "    <tr>\n",
       "      <th>3</th>\n",
       "      <td>3.0</td>\n",
       "      <td>11a4017a-0316-4a6a-a5f5-b055da12794b</td>\n",
       "      <td>Anifa bby</td>\n",
       "      <td>https://play-lh.googleusercontent.com/a/ACg8oc...</td>\n",
       "      <td>though I have not yet done ticket booking but,...</td>\n",
       "      <td>5</td>\n",
       "      <td>0</td>\n",
       "      <td>191.2</td>\n",
       "      <td>2023-10-24 09:04:30</td>\n",
       "      <td>NaN</td>\n",
       "      <td>NaN</td>\n",
       "      <td>191.2</td>\n",
       "      <td>Cheapflights</td>\n",
       "      <td>Flight Booking</td>\n",
       "    </tr>\n",
       "    <tr>\n",
       "      <th>4</th>\n",
       "      <td>4.0</td>\n",
       "      <td>dcf55276-1e83-41db-a1dd-88ea41c27693</td>\n",
       "      <td>Jandri du Plessis</td>\n",
       "      <td>https://play-lh.googleusercontent.com/a/ACg8oc...</td>\n",
       "      <td>Have tried to book a flights at least 6 times ...</td>\n",
       "      <td>1</td>\n",
       "      <td>8</td>\n",
       "      <td>189.2</td>\n",
       "      <td>2023-10-02 23:12:13</td>\n",
       "      <td>NaN</td>\n",
       "      <td>NaN</td>\n",
       "      <td>189.2</td>\n",
       "      <td>Cheapflights</td>\n",
       "      <td>Flight Booking</td>\n",
       "    </tr>\n",
       "  </tbody>\n",
       "</table>\n",
       "</div>"
      ],
      "text/plain": [
       "   Unnamed: 0                              reviewId           userName  \\\n",
       "0         0.0  af1da1e9-9001-408e-906b-687da4cef506       Micah Medina   \n",
       "1         1.0  8294ecdf-7af6-4621-ad63-0602c3b69d56   Shreeya Sengupta   \n",
       "2         2.0  819f6d11-25f8-4a78-9410-5e76504c6d22   Palei Fonua Liua   \n",
       "3         3.0  11a4017a-0316-4a6a-a5f5-b055da12794b          Anifa bby   \n",
       "4         4.0  dcf55276-1e83-41db-a1dd-88ea41c27693  Jandri du Plessis   \n",
       "\n",
       "                                           userImage  \\\n",
       "0  https://play-lh.googleusercontent.com/a/ACg8oc...   \n",
       "1  https://play-lh.googleusercontent.com/a-/ALV-U...   \n",
       "2  https://play-lh.googleusercontent.com/a/ACg8oc...   \n",
       "3  https://play-lh.googleusercontent.com/a/ACg8oc...   \n",
       "4  https://play-lh.googleusercontent.com/a/ACg8oc...   \n",
       "\n",
       "                                             content  score  thumbsUpCount  \\\n",
       "0  I have gotten some really good deals with this...      5            340   \n",
       "1  Cheap flights is very helpful when planning tr...      5             80   \n",
       "2  I'll look for flights from this app, but as fa...      1             97   \n",
       "3  though I have not yet done ticket booking but,...      5              0   \n",
       "4  Have tried to book a flights at least 6 times ...      1              8   \n",
       "\n",
       "  reviewCreatedVersion                   at replyContent repliedAt appVersion  \\\n",
       "0                136.1  2021-08-27 14:42:00          NaN       NaN      136.1   \n",
       "1                186.0  2023-08-18 18:59:59          NaN       NaN      186.0   \n",
       "2                184.1  2023-07-14 12:27:40          NaN       NaN      184.1   \n",
       "3                191.2  2023-10-24 09:04:30          NaN       NaN      191.2   \n",
       "4                189.2  2023-10-02 23:12:13          NaN       NaN      189.2   \n",
       "\n",
       "        AppName      App Domain  \n",
       "0  Cheapflights  Flight Booking  \n",
       "1  Cheapflights  Flight Booking  \n",
       "2  Cheapflights  Flight Booking  \n",
       "3  Cheapflights  Flight Booking  \n",
       "4  Cheapflights  Flight Booking  "
      ]
     },
     "execution_count": 8,
     "metadata": {},
     "output_type": "execute_result"
    }
   ],
   "source": [
    "df1.head()"
   ]
  },
  {
   "cell_type": "code",
   "execution_count": 9,
   "metadata": {
    "colab": {
     "base_uri": "https://localhost:8080/"
    },
    "executionInfo": {
     "elapsed": 6,
     "status": "ok",
     "timestamp": 1700455830161,
     "user": {
      "displayName": "Kashish Thakur",
      "userId": "02034585595225747286"
     },
     "user_tz": 480
    },
    "id": "k627cilH_XIA",
    "outputId": "83650c5f-f705-46ea-a5c9-5802f5b9c8ac"
   },
   "outputs": [
    {
     "name": "stdout",
     "output_type": "stream",
     "text": [
      "Number of Records in the raw dataset:  (959491, 14)\n"
     ]
    }
   ],
   "source": [
    "# Number of records in the dataset\n",
    "row_count = df1.shape\n",
    "print(\"Number of Records in the raw dataset: \",row_count)"
   ]
  },
  {
   "cell_type": "markdown",
   "metadata": {
    "id": "ChVZ3d-HFnlT"
   },
   "source": [
    "# Finding the unique App Domains in the Merged Dataset"
   ]
  },
  {
   "cell_type": "code",
   "execution_count": 11,
   "metadata": {
    "colab": {
     "base_uri": "https://localhost:8080/"
    },
    "executionInfo": {
     "elapsed": 5,
     "status": "ok",
     "timestamp": 1700455830161,
     "user": {
      "displayName": "Kashish Thakur",
      "userId": "02034585595225747286"
     },
     "user_tz": 480
    },
    "id": "E-BVawaJFqa3",
    "outputId": "0c33cbe9-a28a-4795-e979-be6f2aa0ef63"
   },
   "outputs": [
    {
     "name": "stdout",
     "output_type": "stream",
     "text": [
      "['Flight Booking' 'Vacation Rental' 'Car Ride' 'Food Delivery']\n"
     ]
    }
   ],
   "source": [
    "unique_app_domains = df1['App Domain'].unique()\n",
    "\n",
    "# Print or use the unique values\n",
    "print(unique_app_domains)"
   ]
  },
  {
   "cell_type": "markdown",
   "metadata": {
    "id": "PsL6t6BMFw94"
   },
   "source": [
    "# Finding the unique App names in the merged dataset"
   ]
  },
  {
   "cell_type": "code",
   "execution_count": 12,
   "metadata": {
    "colab": {
     "base_uri": "https://localhost:8080/"
    },
    "executionInfo": {
     "elapsed": 3,
     "status": "ok",
     "timestamp": 1700455830161,
     "user": {
      "displayName": "Kashish Thakur",
      "userId": "02034585595225747286"
     },
     "user_tz": 480
    },
    "id": "lCXBFkSsFzdH",
    "outputId": "01f304e5-f580-4709-eae5-ba6d8c469505"
   },
   "outputs": [
    {
     "name": "stdout",
     "output_type": "stream",
     "text": [
      "['Cheapflights' 'PriceLine' 'airbnb' 'agoda' 'curb' 'cheapoair'\n",
      " 'didi_chuxing' 'easy_taxi' 'expedia' 'gett_taxi' 'gopuff' 'grubhub'\n",
      " 'hopper' 'justeat' 'lyft' 'momondo' 'postmates' 'talabat' 'trivago'\n",
      " 'vrbo']\n"
     ]
    }
   ],
   "source": [
    "unique_app_name = df1['AppName'].unique()\n",
    "\n",
    "# Print or use the unique values\n",
    "print(unique_app_name)"
   ]
  },
  {
   "cell_type": "markdown",
   "metadata": {
    "id": "Q4Jmmuv5F5v0"
   },
   "source": [
    "# Intial Descriptive Statistics"
   ]
  },
  {
   "cell_type": "code",
   "execution_count": 13,
   "metadata": {
    "colab": {
     "base_uri": "https://localhost:8080/",
     "height": 300
    },
    "executionInfo": {
     "elapsed": 321,
     "status": "ok",
     "timestamp": 1700455830480,
     "user": {
      "displayName": "Kashish Thakur",
      "userId": "02034585595225747286"
     },
     "user_tz": 480
    },
    "id": "qp8p9NdMF2OY",
    "outputId": "3f64f7d1-a105-46cb-f7d9-65b4b4190722"
   },
   "outputs": [
    {
     "data": {
      "text/html": [
       "<div>\n",
       "<style scoped>\n",
       "    .dataframe tbody tr th:only-of-type {\n",
       "        vertical-align: middle;\n",
       "    }\n",
       "\n",
       "    .dataframe tbody tr th {\n",
       "        vertical-align: top;\n",
       "    }\n",
       "\n",
       "    .dataframe thead th {\n",
       "        text-align: right;\n",
       "    }\n",
       "</style>\n",
       "<table border=\"1\" class=\"dataframe\">\n",
       "  <thead>\n",
       "    <tr style=\"text-align: right;\">\n",
       "      <th></th>\n",
       "      <th>Unnamed: 0</th>\n",
       "      <th>score</th>\n",
       "      <th>thumbsUpCount</th>\n",
       "    </tr>\n",
       "  </thead>\n",
       "  <tbody>\n",
       "    <tr>\n",
       "      <th>count</th>\n",
       "      <td>883858.000000</td>\n",
       "      <td>959491.000000</td>\n",
       "      <td>959491.000000</td>\n",
       "    </tr>\n",
       "    <tr>\n",
       "      <th>mean</th>\n",
       "      <td>43837.159537</td>\n",
       "      <td>3.835098</td>\n",
       "      <td>1.622256</td>\n",
       "    </tr>\n",
       "    <tr>\n",
       "      <th>std</th>\n",
       "      <td>33153.359269</td>\n",
       "      <td>1.641115</td>\n",
       "      <td>13.739889</td>\n",
       "    </tr>\n",
       "    <tr>\n",
       "      <th>min</th>\n",
       "      <td>0.000000</td>\n",
       "      <td>0.000000</td>\n",
       "      <td>0.000000</td>\n",
       "    </tr>\n",
       "    <tr>\n",
       "      <th>25%</th>\n",
       "      <td>14464.000000</td>\n",
       "      <td>2.000000</td>\n",
       "      <td>0.000000</td>\n",
       "    </tr>\n",
       "    <tr>\n",
       "      <th>50%</th>\n",
       "      <td>37814.000000</td>\n",
       "      <td>5.000000</td>\n",
       "      <td>0.000000</td>\n",
       "    </tr>\n",
       "    <tr>\n",
       "      <th>75%</th>\n",
       "      <td>68714.000000</td>\n",
       "      <td>5.000000</td>\n",
       "      <td>0.000000</td>\n",
       "    </tr>\n",
       "    <tr>\n",
       "      <th>max</th>\n",
       "      <td>128752.000000</td>\n",
       "      <td>5.000000</td>\n",
       "      <td>1751.000000</td>\n",
       "    </tr>\n",
       "  </tbody>\n",
       "</table>\n",
       "</div>"
      ],
      "text/plain": [
       "          Unnamed: 0          score  thumbsUpCount\n",
       "count  883858.000000  959491.000000  959491.000000\n",
       "mean    43837.159537       3.835098       1.622256\n",
       "std     33153.359269       1.641115      13.739889\n",
       "min         0.000000       0.000000       0.000000\n",
       "25%     14464.000000       2.000000       0.000000\n",
       "50%     37814.000000       5.000000       0.000000\n",
       "75%     68714.000000       5.000000       0.000000\n",
       "max    128752.000000       5.000000    1751.000000"
      ]
     },
     "execution_count": 13,
     "metadata": {},
     "output_type": "execute_result"
    }
   ],
   "source": [
    "df1.describe()"
   ]
  },
  {
   "cell_type": "markdown",
   "metadata": {
    "id": "1fNoLOiJF-Mt"
   },
   "source": [
    "# Intial EDA"
   ]
  },
  {
   "cell_type": "code",
   "execution_count": 14,
   "metadata": {
    "colab": {
     "base_uri": "https://localhost:8080/",
     "height": 604
    },
    "executionInfo": {
     "elapsed": 962,
     "status": "ok",
     "timestamp": 1700455831438,
     "user": {
      "displayName": "Kashish Thakur",
      "userId": "02034585595225747286"
     },
     "user_tz": 480
    },
    "id": "pzWbLDEVF8Jv",
    "outputId": "d584b444-a2f8-4522-c76b-f22c04a17761"
   },
   "outputs": [
    {
     "name": "stdout",
     "output_type": "stream",
     "text": [
      "0         495\n",
      "1         367\n",
      "2         387\n",
      "3         250\n",
      "4         223\n",
      "         ... \n",
      "959486     10\n",
      "959487      8\n",
      "959488     15\n",
      "959489      1\n",
      "959490      1\n",
      "Name: ReviewCharLength, Length: 959491, dtype: int64\n"
     ]
    },
    {
     "data": {
      "image/png": "[encoded data removed]",
      "text/plain": [
       "<Figure size 600x400 with 1 Axes>"
      ]
     },
     "metadata": {},
     "output_type": "display_data"
    }
   ],
   "source": [
    "df1['content'] = df1['content'].astype(str)\n",
    "# Calculate the length of each review\n",
    "df1['ReviewCharLength'] = df1['content'].apply(len)\n",
    "\n",
    "print(df1['ReviewCharLength'])\n",
    "# Plot a box plot for review lengths\n",
    "plt.figure(figsize=(6, 4))\n",
    "sns.boxplot(y=df1['ReviewCharLength'])\n",
    "plt.title('Number of characters in the Review ')\n",
    "plt.xlabel('Review Character Length')\n",
    "plt.show()"
   ]
  },
  {
   "cell_type": "code",
   "execution_count": 15,
   "metadata": {
    "colab": {
     "base_uri": "https://localhost:8080/",
     "height": 487
    },
    "executionInfo": {
     "elapsed": 905,
     "status": "ok",
     "timestamp": 1700455832338,
     "user": {
      "displayName": "Kashish Thakur",
      "userId": "02034585595225747286"
     },
     "user_tz": 480
    },
    "id": "WtQVYWfiGA07",
    "outputId": "bbda9aac-27cb-43b2-fbe7-fcf8844fcedf"
   },
   "outputs": [
    {
     "data": {
      "image/png": "[encoded data removed]",
      "text/plain": [
       "<Figure size 800x500 with 1 Axes>"
      ]
     },
     "metadata": {},
     "output_type": "display_data"
    }
   ],
   "source": [
    "import numpy as np\n",
    "import matplotlib.pyplot as plt\n",
    "\n",
    "# Calculate the length of each review\n",
    "df1['ReviewCharLength'] = df1['content'].apply(len)\n",
    "\n",
    "# Calculate histogram values\n",
    "hist, bins = np.histogram(df1['ReviewCharLength'], bins=20)\n",
    "\n",
    "# Plot a histogram for review lengths\n",
    "plt.figure(figsize=(8, 5))\n",
    "plt.hist(df1['ReviewCharLength'], bins=40, color='skyblue', edgecolor='black')\n",
    "plt.title('Histogram for the Character Count of the Reviews')\n",
    "plt.xlabel('Review Character Length')\n",
    "plt.ylabel('Frequency')\n",
    "plt.show()\n"
   ]
  },
  {
   "cell_type": "code",
   "execution_count": 17,
   "metadata": {
    "colab": {
     "base_uri": "https://localhost:8080/",
     "height": 876
    },
    "executionInfo": {
     "elapsed": 13580,
     "status": "ok",
     "timestamp": 1700455845917,
     "user": {
      "displayName": "Kashish Thakur",
      "userId": "02034585595225747286"
     },
     "user_tz": 480
    },
    "id": "MskwXRI9GDHf",
    "outputId": "feedecae-3873-4ce2-9376-6f2f9063a070"
   },
   "outputs": [
    {
     "data": {
      "image/png": "[encoded data removed]",
      "text/plain": [
       "<Figure size 1000x600 with 1 Axes>"
      ]
     },
     "metadata": {},
     "output_type": "display_data"
    },
    {
     "name": "stdout",
     "output_type": "stream",
     "text": [
      "The special character with the highest count is '$' with a count of 34334\n",
      "Top 10 Special Characters:\n",
      "$: 34334\n",
      "👍: 14128\n",
      "+: 5573\n",
      "👌: 4162\n",
      "❤: 3563\n",
      "😊: 3325\n",
      "👎: 3268\n",
      "😍: 2602\n",
      "£: 2332\n",
      "😡: 2230\n"
     ]
    }
   ],
   "source": [
    "import pandas as pd\n",
    "import regex\n",
    "from collections import Counter\n",
    "import matplotlib.pyplot as plt\n",
    "\n",
    "# Assuming df1 is your DataFrame\n",
    "# Function to extract special characters from text\n",
    "def extract_special_characters(text):\n",
    "    special_characters_list = []\n",
    "    special_characters_pattern = regex.compile(r'\\p{S}')\n",
    "    special_characters = special_characters_pattern.findall(text)\n",
    "    for char in special_characters:\n",
    "        special_characters_list.append(char)\n",
    "    return special_characters_list\n",
    "\n",
    "# Apply the function to the \"content\" column in the 'df1' dataframe\n",
    "df1['special_characters'] = df1['content'].apply(extract_special_characters)\n",
    "\n",
    "# Flatten the list of special characters\n",
    "flat_special_characters_list = [item for sublist in df1['special_characters'] for item in sublist]\n",
    "\n",
    "# Count the occurrences of each special character\n",
    "special_character_counts = dict(Counter(flat_special_characters_list))\n",
    "\n",
    "# Sort the special characters by count\n",
    "sorted_special_characters = dict(sorted(special_character_counts.items(), key=lambda item: item[1], reverse=True))\n",
    "\n",
    "# Get the top 10 most used special characters\n",
    "top_10_special_characters = dict(list(sorted_special_characters.items())[:10])\n",
    "\n",
    "# Plot the top 10 most used special characters\n",
    "plt.figure(figsize=(10, 6))\n",
    "plt.bar(top_10_special_characters.keys(), top_10_special_characters.values())\n",
    "plt.title('Top 10 Most Used Special Characters in Reviews')\n",
    "plt.xlabel('Special Character')\n",
    "plt.ylabel('Count')\n",
    "plt.show()\n",
    "\n",
    "# Find the special character with the highest count\n",
    "highest_count_character = max(special_character_counts, key=special_character_counts.get)\n",
    "highest_count = special_character_counts[highest_count_character]\n",
    "\n",
    "# Display the result\n",
    "print(f\"The special character with the highest count is '{highest_count_character}' with a count of {highest_count}\")\n",
    "\n",
    "# Display all top 10 characters and their counts\n",
    "print(\"Top 10 Special Characters:\")\n",
    "for char, count in top_10_special_characters.items():\n",
    "    print(f\"{char}: {count}\")\n"
   ]
  },
  {
   "cell_type": "code",
   "execution_count": 18,
   "metadata": {
    "colab": {
     "base_uri": "https://localhost:8080/",
     "height": 712
    },
    "executionInfo": {
     "elapsed": 5,
     "status": "ok",
     "timestamp": 1700455845917,
     "user": {
      "displayName": "Kashish Thakur",
      "userId": "02034585595225747286"
     },
     "user_tz": 480
    },
    "id": "SN1sWJz1GISo",
    "outputId": "9ebf0dfa-8274-4fdb-d076-a941a286e0d3"
   },
   "outputs": [
    {
     "data": {
      "text/html": [
       "<div>\n",
       "<style scoped>\n",
       "    .dataframe tbody tr th:only-of-type {\n",
       "        vertical-align: middle;\n",
       "    }\n",
       "\n",
       "    .dataframe tbody tr th {\n",
       "        vertical-align: top;\n",
       "    }\n",
       "\n",
       "    .dataframe thead th {\n",
       "        text-align: right;\n",
       "    }\n",
       "</style>\n",
       "<table border=\"1\" class=\"dataframe\">\n",
       "  <thead>\n",
       "    <tr style=\"text-align: right;\">\n",
       "      <th></th>\n",
       "      <th>Unnamed: 0</th>\n",
       "      <th>reviewId</th>\n",
       "      <th>userName</th>\n",
       "      <th>userImage</th>\n",
       "      <th>content</th>\n",
       "      <th>score</th>\n",
       "      <th>thumbsUpCount</th>\n",
       "      <th>reviewCreatedVersion</th>\n",
       "      <th>at</th>\n",
       "      <th>replyContent</th>\n",
       "      <th>repliedAt</th>\n",
       "      <th>appVersion</th>\n",
       "      <th>AppName</th>\n",
       "      <th>App Domain</th>\n",
       "      <th>ReviewCharLength</th>\n",
       "      <th>special_characters</th>\n",
       "    </tr>\n",
       "  </thead>\n",
       "  <tbody>\n",
       "    <tr>\n",
       "      <th>0</th>\n",
       "      <td>0.0</td>\n",
       "      <td>af1da1e9-9001-408e-906b-687da4cef506</td>\n",
       "      <td>Micah Medina</td>\n",
       "      <td>https://play-lh.googleusercontent.com/a/ACg8oc...</td>\n",
       "      <td>I have gotten some really good deals with this...</td>\n",
       "      <td>5</td>\n",
       "      <td>340</td>\n",
       "      <td>136.1</td>\n",
       "      <td>2021-08-27 14:42:00</td>\n",
       "      <td>NaN</td>\n",
       "      <td>NaN</td>\n",
       "      <td>136.1</td>\n",
       "      <td>Cheapflights</td>\n",
       "      <td>Flight Booking</td>\n",
       "      <td>495</td>\n",
       "      <td>[]</td>\n",
       "    </tr>\n",
       "    <tr>\n",
       "      <th>1</th>\n",
       "      <td>1.0</td>\n",
       "      <td>8294ecdf-7af6-4621-ad63-0602c3b69d56</td>\n",
       "      <td>Shreeya Sengupta</td>\n",
       "      <td>https://play-lh.googleusercontent.com/a-/ALV-U...</td>\n",
       "      <td>Cheap flights is very helpful when planning tr...</td>\n",
       "      <td>5</td>\n",
       "      <td>80</td>\n",
       "      <td>186.0</td>\n",
       "      <td>2023-08-18 18:59:59</td>\n",
       "      <td>NaN</td>\n",
       "      <td>NaN</td>\n",
       "      <td>186.0</td>\n",
       "      <td>Cheapflights</td>\n",
       "      <td>Flight Booking</td>\n",
       "      <td>367</td>\n",
       "      <td>[]</td>\n",
       "    </tr>\n",
       "    <tr>\n",
       "      <th>2</th>\n",
       "      <td>2.0</td>\n",
       "      <td>819f6d11-25f8-4a78-9410-5e76504c6d22</td>\n",
       "      <td>Palei Fonua Liua</td>\n",
       "      <td>https://play-lh.googleusercontent.com/a/ACg8oc...</td>\n",
       "      <td>I'll look for flights from this app, but as fa...</td>\n",
       "      <td>1</td>\n",
       "      <td>97</td>\n",
       "      <td>184.1</td>\n",
       "      <td>2023-07-14 12:27:40</td>\n",
       "      <td>NaN</td>\n",
       "      <td>NaN</td>\n",
       "      <td>184.1</td>\n",
       "      <td>Cheapflights</td>\n",
       "      <td>Flight Booking</td>\n",
       "      <td>387</td>\n",
       "      <td>[]</td>\n",
       "    </tr>\n",
       "    <tr>\n",
       "      <th>3</th>\n",
       "      <td>3.0</td>\n",
       "      <td>11a4017a-0316-4a6a-a5f5-b055da12794b</td>\n",
       "      <td>Anifa bby</td>\n",
       "      <td>https://play-lh.googleusercontent.com/a/ACg8oc...</td>\n",
       "      <td>though I have not yet done ticket booking but,...</td>\n",
       "      <td>5</td>\n",
       "      <td>0</td>\n",
       "      <td>191.2</td>\n",
       "      <td>2023-10-24 09:04:30</td>\n",
       "      <td>NaN</td>\n",
       "      <td>NaN</td>\n",
       "      <td>191.2</td>\n",
       "      <td>Cheapflights</td>\n",
       "      <td>Flight Booking</td>\n",
       "      <td>250</td>\n",
       "      <td>[]</td>\n",
       "    </tr>\n",
       "    <tr>\n",
       "      <th>4</th>\n",
       "      <td>4.0</td>\n",
       "      <td>dcf55276-1e83-41db-a1dd-88ea41c27693</td>\n",
       "      <td>Jandri du Plessis</td>\n",
       "      <td>https://play-lh.googleusercontent.com/a/ACg8oc...</td>\n",
       "      <td>Have tried to book a flights at least 6 times ...</td>\n",
       "      <td>1</td>\n",
       "      <td>8</td>\n",
       "      <td>189.2</td>\n",
       "      <td>2023-10-02 23:12:13</td>\n",
       "      <td>NaN</td>\n",
       "      <td>NaN</td>\n",
       "      <td>189.2</td>\n",
       "      <td>Cheapflights</td>\n",
       "      <td>Flight Booking</td>\n",
       "      <td>223</td>\n",
       "      <td>[]</td>\n",
       "    </tr>\n",
       "  </tbody>\n",
       "</table>\n",
       "</div>"
      ],
      "text/plain": [
       "   Unnamed: 0                              reviewId           userName  \\\n",
       "0         0.0  af1da1e9-9001-408e-906b-687da4cef506       Micah Medina   \n",
       "1         1.0  8294ecdf-7af6-4621-ad63-0602c3b69d56   Shreeya Sengupta   \n",
       "2         2.0  819f6d11-25f8-4a78-9410-5e76504c6d22   Palei Fonua Liua   \n",
       "3         3.0  11a4017a-0316-4a6a-a5f5-b055da12794b          Anifa bby   \n",
       "4         4.0  dcf55276-1e83-41db-a1dd-88ea41c27693  Jandri du Plessis   \n",
       "\n",
       "                                           userImage  \\\n",
       "0  https://play-lh.googleusercontent.com/a/ACg8oc...   \n",
       "1  https://play-lh.googleusercontent.com/a-/ALV-U...   \n",
       "2  https://play-lh.googleusercontent.com/a/ACg8oc...   \n",
       "3  https://play-lh.googleusercontent.com/a/ACg8oc...   \n",
       "4  https://play-lh.googleusercontent.com/a/ACg8oc...   \n",
       "\n",
       "                                             content  score  thumbsUpCount  \\\n",
       "0  I have gotten some really good deals with this...      5            340   \n",
       "1  Cheap flights is very helpful when planning tr...      5             80   \n",
       "2  I'll look for flights from this app, but as fa...      1             97   \n",
       "3  though I have not yet done ticket booking but,...      5              0   \n",
       "4  Have tried to book a flights at least 6 times ...      1              8   \n",
       "\n",
       "  reviewCreatedVersion                   at replyContent repliedAt appVersion  \\\n",
       "0                136.1  2021-08-27 14:42:00          NaN       NaN      136.1   \n",
       "1                186.0  2023-08-18 18:59:59          NaN       NaN      186.0   \n",
       "2                184.1  2023-07-14 12:27:40          NaN       NaN      184.1   \n",
       "3                191.2  2023-10-24 09:04:30          NaN       NaN      191.2   \n",
       "4                189.2  2023-10-02 23:12:13          NaN       NaN      189.2   \n",
       "\n",
       "        AppName      App Domain  ReviewCharLength special_characters  \n",
       "0  Cheapflights  Flight Booking               495                 []  \n",
       "1  Cheapflights  Flight Booking               367                 []  \n",
       "2  Cheapflights  Flight Booking               387                 []  \n",
       "3  Cheapflights  Flight Booking               250                 []  \n",
       "4  Cheapflights  Flight Booking               223                 []  "
      ]
     },
     "execution_count": 18,
     "metadata": {},
     "output_type": "execute_result"
    }
   ],
   "source": [
    "df1.head()"
   ]
  },
  {
   "cell_type": "code",
   "execution_count": 19,
   "metadata": {
    "colab": {
     "base_uri": "https://localhost:8080/",
     "height": 410
    },
    "executionInfo": {
     "elapsed": 344,
     "status": "ok",
     "timestamp": 1700455846257,
     "user": {
      "displayName": "Kashish Thakur",
      "userId": "02034585595225747286"
     },
     "user_tz": 480
    },
    "id": "q807bP8gGhsm",
    "outputId": "c4c0ac6b-791a-4e69-f386-68f4c6e32730"
   },
   "outputs": [
    {
     "data": {
      "image/png": "[encoded data removed]",
      "text/plain": [
       "<Figure size 800x400 with 1 Axes>"
      ]
     },
     "metadata": {},
     "output_type": "display_data"
    }
   ],
   "source": [
    "# Sentiment Analysis Bar Chart\n",
    "plt.figure(figsize=(8, 4))\n",
    "sns.countplot(x='score', data=df1)\n",
    "plt.title('Distribution of Customer Ratings')\n",
    "plt.xlabel('Customer Rating')\n",
    "plt.ylabel('Count')\n",
    "plt.show()"
   ]
  },
  {
   "cell_type": "markdown",
   "metadata": {
    "id": "USuFo1_8GqYK"
   },
   "source": [
    "# Data Cleaning"
   ]
  },
  {
   "cell_type": "code",
   "execution_count": 20,
   "metadata": {
    "colab": {
     "base_uri": "https://localhost:8080/"
    },
    "executionInfo": {
     "elapsed": 5,
     "status": "ok",
     "timestamp": 1700455846258,
     "user": {
      "displayName": "Kashish Thakur",
      "userId": "02034585595225747286"
     },
     "user_tz": 480
    },
    "id": "zO52OQvAGqw0",
    "outputId": "d5b3c935-f9cf-4f6c-c457-a402b54ab827"
   },
   "outputs": [
    {
     "name": "stdout",
     "output_type": "stream",
     "text": [
      "Number of Records in the raw dataset:  (959491, 16)\n"
     ]
    }
   ],
   "source": [
    "# Number of records in the dataset\n",
    "row_count = df1.shape\n",
    "print(\"Number of Records in the raw dataset: \",row_count)"
   ]
  },
  {
   "cell_type": "markdown",
   "metadata": {
    "id": "d3jX4kbEGvjP"
   },
   "source": [
    "#Handling Null values\n"
   ]
  },
  {
   "cell_type": "code",
   "execution_count": 21,
   "metadata": {
    "colab": {
     "base_uri": "https://localhost:8080/"
    },
    "executionInfo": {
     "elapsed": 1854,
     "status": "ok",
     "timestamp": 1700455848109,
     "user": {
      "displayName": "Kashish Thakur",
      "userId": "02034585595225747286"
     },
     "user_tz": 480
    },
    "id": "KevLzBKYGtii",
    "outputId": "c50d1552-a049-4ff1-b5f6-d9dd928b576c"
   },
   "outputs": [
    {
     "name": "stdout",
     "output_type": "stream",
     "text": [
      "The number of null values in the Dataset:\n",
      " Unnamed: 0               75633\n",
      "reviewId                     0\n",
      "userName                     3\n",
      "userImage                    0\n",
      "content                      0\n",
      "score                        0\n",
      "thumbsUpCount                0\n",
      "reviewCreatedVersion    111123\n",
      "at                           0\n",
      "replyContent            821314\n",
      "repliedAt               821314\n",
      "appVersion              111123\n",
      "AppName                      0\n",
      "App Domain                   0\n",
      "ReviewCharLength             0\n",
      "special_characters           0\n",
      "dtype: int64\n"
     ]
    }
   ],
   "source": [
    "#Checking the number of null values before the removal of null values in content\n",
    "\n",
    "print(\"The number of null values in the Dataset:\\n\",df1.isnull().sum())"
   ]
  },
  {
   "cell_type": "code",
   "execution_count": 22,
   "metadata": {
    "executionInfo": {
     "elapsed": 976,
     "status": "ok",
     "timestamp": 1700455849084,
     "user": {
      "displayName": "Kashish Thakur",
      "userId": "02034585595225747286"
     },
     "user_tz": 480
    },
    "id": "zScu1CuZG4mJ"
   },
   "outputs": [],
   "source": [
    "#Removing the null values in the userName Column\n",
    "df1.dropna(subset=['userName'], inplace=True)"
   ]
  },
  {
   "cell_type": "code",
   "execution_count": 23,
   "metadata": {
    "colab": {
     "base_uri": "https://localhost:8080/"
    },
    "executionInfo": {
     "elapsed": 1616,
     "status": "ok",
     "timestamp": 1700455850698,
     "user": {
      "displayName": "Kashish Thakur",
      "userId": "02034585595225747286"
     },
     "user_tz": 480
    },
    "id": "fHR4v6u1HDvz",
    "outputId": "d484b8fc-3704-4937-c497-3b05bb09a697"
   },
   "outputs": [
    {
     "name": "stdout",
     "output_type": "stream",
     "text": [
      "The number of null values in the Dataset:\n",
      " Unnamed: 0               75632\n",
      "reviewId                     0\n",
      "userName                     0\n",
      "userImage                    0\n",
      "content                      0\n",
      "score                        0\n",
      "thumbsUpCount                0\n",
      "reviewCreatedVersion    111123\n",
      "at                           0\n",
      "replyContent            821311\n",
      "repliedAt               821311\n",
      "appVersion              111123\n",
      "AppName                      0\n",
      "App Domain                   0\n",
      "ReviewCharLength             0\n",
      "special_characters           0\n",
      "dtype: int64\n"
     ]
    }
   ],
   "source": [
    "#Checking the number of null values before the removal of null values in content\n",
    "\n",
    "print(\"The number of null values in the Dataset:\\n\",df1.isnull().sum())"
   ]
  },
  {
   "cell_type": "code",
   "execution_count": 24,
   "metadata": {
    "colab": {
     "base_uri": "https://localhost:8080/"
    },
    "executionInfo": {
     "elapsed": 2840,
     "status": "ok",
     "timestamp": 1700455853535,
     "user": {
      "displayName": "Kashish Thakur",
      "userId": "02034585595225747286"
     },
     "user_tz": 480
    },
    "id": "yzzxyFi2HFdi",
    "outputId": "e12ffd45-d316-4fe5-a46e-fd452e03d952"
   },
   "outputs": [
    {
     "name": "stdout",
     "output_type": "stream",
     "text": [
      "400594       2.586\n",
      "400196      5.0.14\n",
      "400195      5.0.14\n",
      "400194      5.0.14\n",
      "400193      5.0.14\n",
      "            ...   \n",
      "391758    10.12.19\n",
      "391757    10.12.19\n",
      "391074    10.21.67\n",
      "391073    10.21.67\n",
      "391072    10.21.67\n",
      "Name: appVersion, Length: 959488, dtype: object\n",
      "The above values are the filled App version values  \n"
     ]
    }
   ],
   "source": [
    "# Sort by 'at'\n",
    "df1= df1.sort_values('at')\n",
    "\n",
    "# Forward fill 'appVersion'\n",
    "df1['appVersion'] = df1['appVersion'].ffill()\n",
    "\n",
    "# Backward fill 'appVersion' for remaining null values\n",
    "df1['appVersion'] = df1['appVersion'].bfill()\n",
    "\n",
    "print(df1['appVersion'])\n",
    "print(\"The above values are the filled App version values  \")"
   ]
  },
  {
   "cell_type": "code",
   "execution_count": 25,
   "metadata": {
    "colab": {
     "base_uri": "https://localhost:8080/"
    },
    "executionInfo": {
     "elapsed": 2495,
     "status": "ok",
     "timestamp": 1700455856028,
     "user": {
      "displayName": "Kashish Thakur",
      "userId": "02034585595225747286"
     },
     "user_tz": 480
    },
    "id": "_NIjbMq4HHPs",
    "outputId": "df0df422-35be-42c5-df1e-17f8879a23ad"
   },
   "outputs": [
    {
     "name": "stdout",
     "output_type": "stream",
     "text": [
      "400594       2.586\n",
      "400196      5.0.14\n",
      "400195      5.0.14\n",
      "400194      5.0.14\n",
      "400193      5.0.14\n",
      "            ...   \n",
      "391758    10.12.19\n",
      "391757    10.12.19\n",
      "391074    10.21.67\n",
      "391073    10.21.67\n",
      "391072    10.21.67\n",
      "Name: reviewCreatedVersion, Length: 959488, dtype: object\n",
      "The above values are the filled reviewCreated Version values  \n"
     ]
    }
   ],
   "source": [
    "# Sort by 'at'\n",
    "df1 = df1.sort_values('at')\n",
    "\n",
    "# Forward fill 'appVersion'\n",
    "df1['reviewCreatedVersion'] = df1['reviewCreatedVersion'].ffill()\n",
    "\n",
    "# Backward fill 'appVersion' for remaining null values\n",
    "df1['reviewCreatedVersion'] = df1['reviewCreatedVersion'].bfill()\n",
    "\n",
    "print(df1['reviewCreatedVersion'])\n",
    "print(\"The above values are the filled reviewCreated Version values  \")"
   ]
  },
  {
   "cell_type": "code",
   "execution_count": 26,
   "metadata": {
    "colab": {
     "base_uri": "https://localhost:8080/"
    },
    "executionInfo": {
     "elapsed": 4131,
     "status": "ok",
     "timestamp": 1700455860157,
     "user": {
      "displayName": "Kashish Thakur",
      "userId": "02034585595225747286"
     },
     "user_tz": 480
    },
    "id": "WnXogbuPHMAM",
    "outputId": "84a33e9b-9572-4ebb-c44f-dfbadddc2182"
   },
   "outputs": [
    {
     "name": "stdout",
     "output_type": "stream",
     "text": [
      "The number of null values in the Dataset:\n",
      " Unnamed: 0               75632\n",
      "reviewId                     0\n",
      "userName                     0\n",
      "userImage                    0\n",
      "content                      0\n",
      "score                        0\n",
      "thumbsUpCount                0\n",
      "reviewCreatedVersion         0\n",
      "at                           0\n",
      "replyContent            821311\n",
      "repliedAt               821311\n",
      "appVersion                   0\n",
      "AppName                      0\n",
      "App Domain                   0\n",
      "ReviewCharLength             0\n",
      "special_characters           0\n",
      "dtype: int64\n"
     ]
    }
   ],
   "source": [
    "#Checking the number of null values before the removal of null values in content\n",
    "\n",
    "print(\"The number of null values in the Dataset:\\n\",df1.isnull().sum())"
   ]
  },
  {
   "cell_type": "code",
   "execution_count": 27,
   "metadata": {
    "executionInfo": {
     "elapsed": 4707,
     "status": "ok",
     "timestamp": 1700455864841,
     "user": {
      "displayName": "Kashish Thakur",
      "userId": "02034585595225747286"
     },
     "user_tz": 480
    },
    "id": "Odc2YhYJHPTs"
   },
   "outputs": [],
   "source": [
    "# Impute missing text with a default NA value\n",
    "df1.fillna('NA', inplace=True)"
   ]
  },
  {
   "cell_type": "code",
   "execution_count": 28,
   "metadata": {
    "colab": {
     "base_uri": "https://localhost:8080/"
    },
    "executionInfo": {
     "elapsed": 1563,
     "status": "ok",
     "timestamp": 1700455866942,
     "user": {
      "displayName": "Kashish Thakur",
      "userId": "02034585595225747286"
     },
     "user_tz": 480
    },
    "id": "IAVOmfr_HRqb",
    "outputId": "2ba3cfea-e25f-4124-f751-806af67ebd3b"
   },
   "outputs": [
    {
     "data": {
      "text/plain": [
       "Unnamed: 0              0\n",
       "reviewId                0\n",
       "userName                0\n",
       "userImage               0\n",
       "content                 0\n",
       "score                   0\n",
       "thumbsUpCount           0\n",
       "reviewCreatedVersion    0\n",
       "at                      0\n",
       "replyContent            0\n",
       "repliedAt               0\n",
       "appVersion              0\n",
       "AppName                 0\n",
       "App Domain              0\n",
       "ReviewCharLength        0\n",
       "special_characters      0\n",
       "dtype: int64"
      ]
     },
     "execution_count": 28,
     "metadata": {},
     "output_type": "execute_result"
    }
   ],
   "source": [
    "#Checking the null values after the removal\n",
    "df1.isnull().sum()"
   ]
  },
  {
   "cell_type": "markdown",
   "metadata": {
    "id": "s9T3StnuHUOF"
   },
   "source": [
    "# Number of Records left after removing null values"
   ]
  },
  {
   "cell_type": "code",
   "execution_count": 29,
   "metadata": {
    "colab": {
     "base_uri": "https://localhost:8080/"
    },
    "executionInfo": {
     "elapsed": 5,
     "status": "ok",
     "timestamp": 1700455866943,
     "user": {
      "displayName": "Kashish Thakur",
      "userId": "02034585595225747286"
     },
     "user_tz": 480
    },
    "id": "SwljuzyTHZG0",
    "outputId": "1e51ce4e-4321-44bf-f750-46df29a736ce"
   },
   "outputs": [
    {
     "name": "stdout",
     "output_type": "stream",
     "text": [
      "The number of records left after removing all the null values: 959488\n"
     ]
    }
   ],
   "source": [
    "# Count the number of rows left after removing the null values in Review content column\n",
    "row_count = df1.shape[0]\n",
    "print(\"The number of records left after removing all the null values:\", row_count)"
   ]
  },
  {
   "cell_type": "markdown",
   "metadata": {
    "id": "mwQNMoQcHblo"
   },
   "source": [
    "# Handling Duplicates"
   ]
  },
  {
   "cell_type": "code",
   "execution_count": 30,
   "metadata": {
    "colab": {
     "base_uri": "https://localhost:8080/"
    },
    "executionInfo": {
     "elapsed": 356,
     "status": "ok",
     "timestamp": 1700455867296,
     "user": {
      "displayName": "Kashish Thakur",
      "userId": "02034585595225747286"
     },
     "user_tz": 480
    },
    "id": "cqVAyt-lHa8K",
    "outputId": "c0daf350-cf2d-48c5-b2ed-c18e1c4b8ca6"
   },
   "outputs": [
    {
     "name": "stdout",
     "output_type": "stream",
     "text": [
      "Number of duplicates in the ReviewidColumn:  30931\n"
     ]
    }
   ],
   "source": [
    "#Checking if there duplicates in the review id column to verify whether to consider the removal of duplicate column\n",
    "print(\"Number of duplicates in the ReviewidColumn: \",len(df1['reviewId'])-len(df1['reviewId'].drop_duplicates()))"
   ]
  },
  {
   "cell_type": "code",
   "execution_count": 31,
   "metadata": {
    "colab": {
     "base_uri": "https://localhost:8080/"
    },
    "executionInfo": {
     "elapsed": 1370,
     "status": "ok",
     "timestamp": 1700455868663,
     "user": {
      "displayName": "Kashish Thakur",
      "userId": "02034585595225747286"
     },
     "user_tz": 480
    },
    "id": "YMzNVgb7HjlV",
    "outputId": "2c12b81c-948f-4f0e-b904-a6eb3454369b"
   },
   "outputs": [
    {
     "name": "stdout",
     "output_type": "stream",
     "text": [
      "The number of duplicates left:  None\n"
     ]
    }
   ],
   "source": [
    "# Drop duplicates based on a particular column\n",
    "df_no_duplicates = df1.drop_duplicates(subset='reviewId',inplace=True)\n",
    "print(\"The number of duplicates left: \",df_no_duplicates)"
   ]
  },
  {
   "cell_type": "code",
   "execution_count": 32,
   "metadata": {
    "colab": {
     "base_uri": "https://localhost:8080/"
    },
    "executionInfo": {
     "elapsed": 22,
     "status": "ok",
     "timestamp": 1700455868923,
     "user": {
      "displayName": "Kashish Thakur",
      "userId": "02034585595225747286"
     },
     "user_tz": 480
    },
    "id": "AWRgy9V5Hl0S",
    "outputId": "4579e7f9-e4af-475f-ba76-48f92e81f872"
   },
   "outputs": [
    {
     "name": "stdout",
     "output_type": "stream",
     "text": [
      "Number of duplicates in the Content Column:  257279\n"
     ]
    }
   ],
   "source": [
    "#Check the count of duplicates in Review Content Coumn\n",
    "\n",
    "print(\"Number of duplicates in the Content Column: \",len(df1['content'])-len(df1['content'].drop_duplicates()))"
   ]
  },
  {
   "cell_type": "markdown",
   "metadata": {
    "id": "UVzrfiOxHsQg"
   },
   "source": [
    "# Number of records after removing duplicates"
   ]
  },
  {
   "cell_type": "code",
   "execution_count": 33,
   "metadata": {
    "colab": {
     "base_uri": "https://localhost:8080/"
    },
    "executionInfo": {
     "elapsed": 18,
     "status": "ok",
     "timestamp": 1700455868924,
     "user": {
      "displayName": "Kashish Thakur",
      "userId": "02034585595225747286"
     },
     "user_tz": 480
    },
    "id": "F8CIhP8IHp32",
    "outputId": "aee74b69-40a4-400b-a47b-f45d8cd60020"
   },
   "outputs": [
    {
     "name": "stdout",
     "output_type": "stream",
     "text": [
      "The number of records  after removing duplicates in the review id column:  928557\n"
     ]
    }
   ],
   "source": [
    "# Count the number of rows left after removing the null values in Review content column\n",
    "row_count = df1.shape[0]\n",
    "print(\"The number of records  after removing duplicates in the review id column: \",row_count)"
   ]
  },
  {
   "cell_type": "markdown",
   "metadata": {
    "id": "L68JrswlH6eM"
   },
   "source": [
    "# Handling emoji data"
   ]
  },
  {
   "cell_type": "code",
   "execution_count": 34,
   "metadata": {
    "executionInfo": {
     "elapsed": 4707,
     "status": "ok",
     "timestamp": 1700455873619,
     "user": {
      "displayName": "Kashish Thakur",
      "userId": "02034585595225747286"
     },
     "user_tz": 480
    },
    "id": "MtImJMIwH-Bp"
   },
   "outputs": [],
   "source": [
    "def remove_emoji(text):\n",
    "    emoji_pattern = re.compile(\"[\"\n",
    "                               u\"\\U0001F600-\\U0001F64F\"  # emoticons\n",
    "                               u\"\\U0001F300-\\U0001F5FF\"  # symbols & pictographs\n",
    "                               u\"\\U0001F680-\\U0001F6FF\"  # transport & map symbols\n",
    "                               u\"\\U0001F1E0-\\U0001F1FF\"  # flags (iOS)\n",
    "                               u\"\\U00002500-\\U00002BEF\"  # chinese char\n",
    "                               u\"\\U00002702-\\U000027B0\"\n",
    "                               u\"\\U000024C2-\\U0001F251\"\n",
    "                               u\"\\U0001f926-\\U0001f937\"\n",
    "                               u\"\\U00010000-\\U0010ffff\"\n",
    "                               u\"\\u2640-\\u2642\"\n",
    "                               u\"\\u2600-\\u2B55\"\n",
    "                               u\"\\u200d\"\n",
    "                               u\"\\u23cf\"\n",
    "                               u\"\\u23e9\"\n",
    "                               u\"\\u231a\"\n",
    "                               u\"\\ufe0f\"  # dingbats\n",
    "                               u\"\\u3030\"\n",
    "                               \"]+\", flags=re.UNICODE)\n",
    "    return emoji_pattern.sub(r'', text)\n",
    "\n",
    "# Apply the function to the \"content\" column\n",
    "df1['content'] = df1['content'].apply(remove_emoji)"
   ]
  },
  {
   "cell_type": "code",
   "execution_count": 35,
   "metadata": {
    "colab": {
     "base_uri": "https://localhost:8080/"
    },
    "executionInfo": {
     "elapsed": 1163,
     "status": "ok",
     "timestamp": 1700455874769,
     "user": {
      "displayName": "Kashish Thakur",
      "userId": "02034585595225747286"
     },
     "user_tz": 480
    },
    "id": "ZJbfDakrIR9y",
    "outputId": "33479271-7427-4cb0-825c-c203ba5acae4"
   },
   "outputs": [
    {
     "name": "stdout",
     "output_type": "stream",
     "text": [
      "Empty DataFrame\n",
      "Columns: [Unnamed: 0, reviewId, userName, userImage, content, score, thumbsUpCount, reviewCreatedVersion, at, replyContent, repliedAt, appVersion, AppName, App Domain, ReviewCharLength, special_characters]\n",
      "Index: []\n"
     ]
    }
   ],
   "source": [
    "# Filter the DataFrame to include only rows with emoji\n",
    "emoji_rows = df1[df1['content'] == True]\n",
    "\n",
    "# Print the rows with emoji\n",
    "print(emoji_rows)"
   ]
  },
  {
   "cell_type": "markdown",
   "metadata": {
    "id": "2GFdWjHfJC4B"
   },
   "source": [
    "# Handling Special characters"
   ]
  },
  {
   "cell_type": "code",
   "execution_count": 36,
   "metadata": {
    "executionInfo": {
     "elapsed": 2473,
     "status": "ok",
     "timestamp": 1700455877235,
     "user": {
      "displayName": "Kashish Thakur",
      "userId": "02034585595225747286"
     },
     "user_tz": 480
    },
    "id": "IV7u3oiXJFKg"
   },
   "outputs": [],
   "source": [
    "# Function to remove special characters from text and replace with a space\n",
    "def remove_special_characters(text):\n",
    "    # Define a regular expression pattern to match special characters\n",
    "    special_characters_pattern = r':'\n",
    "\n",
    "    # Use re.sub to replace matched special characters with a space\n",
    "    cleaned_text = re.sub(special_characters_pattern, ' ', text)\n",
    "\n",
    "    return cleaned_text\n",
    "\n",
    "# Apply the function to remove special characters and replace with spaces\n",
    "df1['content'] = df1['content'].apply(remove_special_characters)"
   ]
  },
  {
   "cell_type": "code",
   "execution_count": 37,
   "metadata": {
    "colab": {
     "base_uri": "https://localhost:8080/"
    },
    "executionInfo": {
     "elapsed": 2055,
     "status": "ok",
     "timestamp": 1700455879278,
     "user": {
      "displayName": "Kashish Thakur",
      "userId": "02034585595225747286"
     },
     "user_tz": 480
    },
    "id": "-uCV1PWONRWx",
    "outputId": "35d97850-4852-4e27-fe1c-934052cc6522"
   },
   "outputs": [
    {
     "name": "stdout",
     "output_type": "stream",
     "text": [
      "400594                  Excellent app so easy to book a cab\n",
      "400196                        Easy to use and great service\n",
      "400195                                               Great!\n",
      "400194    This app is awesome for $10 anywhere in Manhat...\n",
      "400193    Бонусные 300р за первую поездку можно использо...\n",
      "                                ...                        \n",
      "391758    Searched for way over a hour for a taxi, only ...\n",
      "391757    Avoid at all costs. 4 mile trip, quoted a mini...\n",
      "391074    This app - and the service behind - fails in a...\n",
      "391073                                          Thank you !\n",
      "391072    אפליקציה מעולה, הנהגים פחות. הם מקבלים את הנסי...\n",
      "Name: content, Length: 923065, dtype: object\n"
     ]
    }
   ],
   "source": [
    "# Filter rows with non-empty 'removed_characters' lists (indicating special characters were removed)\n",
    "df1 = df1[df1['content'].str.len() > 0]\n",
    "\n",
    "# Display the filtered DataFrame\n",
    "print(df1['content'])"
   ]
  },
  {
   "cell_type": "code",
   "execution_count": 38,
   "metadata": {
    "colab": {
     "base_uri": "https://localhost:8080/"
    },
    "executionInfo": {
     "elapsed": 280,
     "status": "ok",
     "timestamp": 1700455889734,
     "user": {
      "displayName": "Kashish Thakur",
      "userId": "02034585595225747286"
     },
     "user_tz": 480
    },
    "id": "QGoggZjJEWPj",
    "outputId": "3955c6e1-9ebe-40bd-e487-c7f9a591447d"
   },
   "outputs": [
    {
     "name": "stdout",
     "output_type": "stream",
     "text": [
      "The number of records after Data Cleaning  (923065, 16)\n"
     ]
    }
   ],
   "source": [
    "# Count the number of rows left after removing the null values in Review content column\n",
    "row_count = df1.shape\n",
    "print(\"The number of records after Data Cleaning \", row_count)"
   ]
  },
  {
   "cell_type": "markdown",
   "metadata": {
    "id": "2_cxRUABJWo7"
   },
   "source": [
    "# Data Transformation\n",
    "## Data Discretization"
   ]
  },
  {
   "cell_type": "code",
   "execution_count": 39,
   "metadata": {
    "colab": {
     "base_uri": "https://localhost:8080/"
    },
    "executionInfo": {
     "elapsed": 691,
     "status": "ok",
     "timestamp": 1700455970009,
     "user": {
      "displayName": "Kashish Thakur",
      "userId": "02034585595225747286"
     },
     "user_tz": 480
    },
    "id": "m5TyCZ--PB19",
    "outputId": "514f3dd1-0cb9-4ae3-8f3c-3eeb1c55f84a"
   },
   "outputs": [
    {
     "data": {
      "text/plain": [
       " 1    650720\n",
       "-1    232638\n",
       " 0     39707\n",
       "Name: category, dtype: int64"
      ]
     },
     "execution_count": 39,
     "metadata": {},
     "output_type": "execute_result"
    }
   ],
   "source": [
    "def classify_score(value):\n",
    "    if value <3:\n",
    "        return -1\n",
    "    elif value == 3:\n",
    "        return 0\n",
    "    elif value >3:\n",
    "        return 1\n",
    "\n",
    "df1['category'] = df1['score'].apply(classify_score)\n",
    "\n",
    "df1['category'].value_counts()"
   ]
  },
  {
   "cell_type": "code",
   "execution_count": 40,
   "metadata": {
    "colab": {
     "base_uri": "https://localhost:8080/",
     "height": 573
    },
    "executionInfo": {
     "elapsed": 245,
     "status": "ok",
     "timestamp": 1700455971945,
     "user": {
      "displayName": "Kashish Thakur",
      "userId": "02034585595225747286"
     },
     "user_tz": 480
    },
    "id": "MaZNGwdVPGUA",
    "outputId": "6bfb8d1d-4035-44cd-8ee2-e4090b3b1593"
   },
   "outputs": [
    {
     "data": {
      "text/html": [
       "<div>\n",
       "<style scoped>\n",
       "    .dataframe tbody tr th:only-of-type {\n",
       "        vertical-align: middle;\n",
       "    }\n",
       "\n",
       "    .dataframe tbody tr th {\n",
       "        vertical-align: top;\n",
       "    }\n",
       "\n",
       "    .dataframe thead th {\n",
       "        text-align: right;\n",
       "    }\n",
       "</style>\n",
       "<table border=\"1\" class=\"dataframe\">\n",
       "  <thead>\n",
       "    <tr style=\"text-align: right;\">\n",
       "      <th></th>\n",
       "      <th>Unnamed: 0</th>\n",
       "      <th>reviewId</th>\n",
       "      <th>userName</th>\n",
       "      <th>userImage</th>\n",
       "      <th>content</th>\n",
       "      <th>score</th>\n",
       "      <th>thumbsUpCount</th>\n",
       "      <th>reviewCreatedVersion</th>\n",
       "      <th>at</th>\n",
       "      <th>replyContent</th>\n",
       "      <th>repliedAt</th>\n",
       "      <th>appVersion</th>\n",
       "      <th>AppName</th>\n",
       "      <th>App Domain</th>\n",
       "      <th>ReviewCharLength</th>\n",
       "      <th>special_characters</th>\n",
       "      <th>category</th>\n",
       "    </tr>\n",
       "  </thead>\n",
       "  <tbody>\n",
       "    <tr>\n",
       "      <th>400594</th>\n",
       "      <td>9995.0</td>\n",
       "      <td>a7363846-8aa0-4ea4-a8b0-5429cba055b9</td>\n",
       "      <td>A Google user</td>\n",
       "      <td>https://play-lh.googleusercontent.com/EGemoI2N...</td>\n",
       "      <td>Excellent app so easy to book a cab</td>\n",
       "      <td>5</td>\n",
       "      <td>0</td>\n",
       "      <td>2.586</td>\n",
       "      <td>01-01-2014 10:05</td>\n",
       "      <td>NA</td>\n",
       "      <td>NA</td>\n",
       "      <td>2.586</td>\n",
       "      <td>gett_taxi</td>\n",
       "      <td>Car Ride</td>\n",
       "      <td>35</td>\n",
       "      <td>[]</td>\n",
       "      <td>Positive</td>\n",
       "    </tr>\n",
       "    <tr>\n",
       "      <th>400196</th>\n",
       "      <td>9597.0</td>\n",
       "      <td>74131d3c-0ba1-42bc-95b8-92ccd95c4fc1</td>\n",
       "      <td>A Google user</td>\n",
       "      <td>https://play-lh.googleusercontent.com/EGemoI2N...</td>\n",
       "      <td>Easy to use and great service</td>\n",
       "      <td>5</td>\n",
       "      <td>7</td>\n",
       "      <td>5.0.14</td>\n",
       "      <td>01-01-2015 01:08</td>\n",
       "      <td>NA</td>\n",
       "      <td>NA</td>\n",
       "      <td>5.0.14</td>\n",
       "      <td>gett_taxi</td>\n",
       "      <td>Car Ride</td>\n",
       "      <td>29</td>\n",
       "      <td>[]</td>\n",
       "      <td>Positive</td>\n",
       "    </tr>\n",
       "    <tr>\n",
       "      <th>400195</th>\n",
       "      <td>9596.0</td>\n",
       "      <td>e52aca06-a9de-483d-8f93-ba8a675ec9a7</td>\n",
       "      <td>A Google user</td>\n",
       "      <td>https://play-lh.googleusercontent.com/EGemoI2N...</td>\n",
       "      <td>Great!</td>\n",
       "      <td>5</td>\n",
       "      <td>0</td>\n",
       "      <td>5.0.14</td>\n",
       "      <td>01-01-2015 10:13</td>\n",
       "      <td>NA</td>\n",
       "      <td>NA</td>\n",
       "      <td>5.0.14</td>\n",
       "      <td>gett_taxi</td>\n",
       "      <td>Car Ride</td>\n",
       "      <td>6</td>\n",
       "      <td>[]</td>\n",
       "      <td>Positive</td>\n",
       "    </tr>\n",
       "    <tr>\n",
       "      <th>400194</th>\n",
       "      <td>9595.0</td>\n",
       "      <td>0a33a4b8-1177-4702-b1fd-cc3098f6c628</td>\n",
       "      <td>A Google user</td>\n",
       "      <td>https://play-lh.googleusercontent.com/EGemoI2N...</td>\n",
       "      <td>This app is awesome for $10 anywhere in Manhat...</td>\n",
       "      <td>5</td>\n",
       "      <td>0</td>\n",
       "      <td>5.0.14</td>\n",
       "      <td>01-01-2015 11:03</td>\n",
       "      <td>NA</td>\n",
       "      <td>NA</td>\n",
       "      <td>5.0.14</td>\n",
       "      <td>gett_taxi</td>\n",
       "      <td>Car Ride</td>\n",
       "      <td>127</td>\n",
       "      <td>[$, $]</td>\n",
       "      <td>Positive</td>\n",
       "    </tr>\n",
       "    <tr>\n",
       "      <th>400193</th>\n",
       "      <td>9594.0</td>\n",
       "      <td>7c05a5fb-f80f-420c-9903-3df60825aa2c</td>\n",
       "      <td>A Google user</td>\n",
       "      <td>https://play-lh.googleusercontent.com/EGemoI2N...</td>\n",
       "      <td>Бонусные 300р за первую поездку можно использо...</td>\n",
       "      <td>2</td>\n",
       "      <td>0</td>\n",
       "      <td>5.0.14</td>\n",
       "      <td>01-01-2015 14:37</td>\n",
       "      <td>NA</td>\n",
       "      <td>NA</td>\n",
       "      <td>5.0.14</td>\n",
       "      <td>gett_taxi</td>\n",
       "      <td>Car Ride</td>\n",
       "      <td>77</td>\n",
       "      <td>[]</td>\n",
       "      <td>Negative</td>\n",
       "    </tr>\n",
       "  </tbody>\n",
       "</table>\n",
       "</div>"
      ],
      "text/plain": [
       "       Unnamed: 0                              reviewId       userName  \\\n",
       "400594     9995.0  a7363846-8aa0-4ea4-a8b0-5429cba055b9  A Google user   \n",
       "400196     9597.0  74131d3c-0ba1-42bc-95b8-92ccd95c4fc1  A Google user   \n",
       "400195     9596.0  e52aca06-a9de-483d-8f93-ba8a675ec9a7  A Google user   \n",
       "400194     9595.0  0a33a4b8-1177-4702-b1fd-cc3098f6c628  A Google user   \n",
       "400193     9594.0  7c05a5fb-f80f-420c-9903-3df60825aa2c  A Google user   \n",
       "\n",
       "                                                userImage  \\\n",
       "400594  https://play-lh.googleusercontent.com/EGemoI2N...   \n",
       "400196  https://play-lh.googleusercontent.com/EGemoI2N...   \n",
       "400195  https://play-lh.googleusercontent.com/EGemoI2N...   \n",
       "400194  https://play-lh.googleusercontent.com/EGemoI2N...   \n",
       "400193  https://play-lh.googleusercontent.com/EGemoI2N...   \n",
       "\n",
       "                                                  content  score  \\\n",
       "400594                Excellent app so easy to book a cab      5   \n",
       "400196                      Easy to use and great service      5   \n",
       "400195                                             Great!      5   \n",
       "400194  This app is awesome for $10 anywhere in Manhat...      5   \n",
       "400193  Бонусные 300р за первую поездку можно использо...      2   \n",
       "\n",
       "        thumbsUpCount reviewCreatedVersion                at replyContent  \\\n",
       "400594              0                2.586  01-01-2014 10:05           NA   \n",
       "400196              7               5.0.14  01-01-2015 01:08           NA   \n",
       "400195              0               5.0.14  01-01-2015 10:13           NA   \n",
       "400194              0               5.0.14  01-01-2015 11:03           NA   \n",
       "400193              0               5.0.14  01-01-2015 14:37           NA   \n",
       "\n",
       "       repliedAt appVersion    AppName App Domain  ReviewCharLength  \\\n",
       "400594        NA      2.586  gett_taxi   Car Ride                35   \n",
       "400196        NA     5.0.14  gett_taxi   Car Ride                29   \n",
       "400195        NA     5.0.14  gett_taxi   Car Ride                 6   \n",
       "400194        NA     5.0.14  gett_taxi   Car Ride               127   \n",
       "400193        NA     5.0.14  gett_taxi   Car Ride                77   \n",
       "\n",
       "       special_characters  category  \n",
       "400594                 []  Positive  \n",
       "400196                 []  Positive  \n",
       "400195                 []  Positive  \n",
       "400194             [$, $]  Positive  \n",
       "400193                 []  Negative  "
      ]
     },
     "execution_count": 40,
     "metadata": {},
     "output_type": "execute_result"
    }
   ],
   "source": [
    "df1['category'] = df1['category'].map({-1.0:'Negative', 0.0:'Neutral', 1.0:'Positive'})\n",
    "df1.head()"
   ]
  },
  {
   "cell_type": "markdown",
   "metadata": {
    "id": "QrvV8ovjPIgf"
   },
   "source": [
    "\n",
    "# Displaying Postive distribution"
   ]
  },
  {
   "cell_type": "code",
   "execution_count": 41,
   "metadata": {
    "colab": {
     "base_uri": "https://localhost:8080/",
     "height": 689
    },
    "executionInfo": {
     "elapsed": 8320,
     "status": "ok",
     "timestamp": 1700455982472,
     "user": {
      "displayName": "Kashish Thakur",
      "userId": "02034585595225747286"
     },
     "user_tz": 480
    },
    "id": "-8vinbYFPMoB",
    "outputId": "332c88af-bfed-4d3e-ee2f-c975ca53736c"
   },
   "outputs": [
    {
     "data": {
      "image/png": "[encoded data removed]",
      "text/plain": [
       "<Figure size 1400x700 with 2 Axes>"
      ]
     },
     "metadata": {},
     "output_type": "display_data"
    }
   ],
   "source": [
    "# Distributing all +ve sentiment tweets\n",
    "import matplotlib.pyplot as plt\n",
    "import seaborn as sns\n",
    "fig = plt.figure(figsize=(14,7))\n",
    "df1['word_count'] = df1.content.str.split().apply(len)\n",
    "ax1 = fig.add_subplot(122)\n",
    "# Specify the bin size (adjust as needed)\n",
    "bin_size = 40\n",
    "\n",
    "# Use seaborn to create a histogram plot with specified bin size\n",
    "sns.histplot(df1[df1['category'] == 'Positive']['word_count'], ax=ax1, color='green', bins=bin_size)\n",
    "\n",
    "describe = df1.word_count[df1.category=='Positive'].describe().to_frame().round(2)\n",
    "\n",
    "ax2 = fig.add_subplot(121)\n",
    "ax2.axis('off')\n",
    "font_size = 14\n",
    "bbox = [0, 0, 1, 1]\n",
    "table = ax2.table(cellText = describe.values, rowLabels = describe.index, bbox=bbox, colLabels=describe.columns)\n",
    "table.set_fontsize(font_size)\n",
    "fig.suptitle('Distribution of text length for positive sentiment Reviews.', fontsize=16)\n",
    "\n",
    "plt.show()"
   ]
  },
  {
   "cell_type": "markdown",
   "metadata": {
    "id": "S4K6GKzsPOte"
   },
   "source": [
    "# Dispalying Negative Distribution"
   ]
  },
  {
   "cell_type": "code",
   "execution_count": 42,
   "metadata": {
    "colab": {
     "base_uri": "https://localhost:8080/",
     "height": 689
    },
    "executionInfo": {
     "elapsed": 4556,
     "status": "ok",
     "timestamp": 1700455987025,
     "user": {
      "displayName": "Kashish Thakur",
      "userId": "02034585595225747286"
     },
     "user_tz": 480
    },
    "id": "HLWbDD6pPSoY",
    "outputId": "6478303c-4281-4065-8cc8-afd715563a2c"
   },
   "outputs": [
    {
     "data": {
      "image/png": "[encoded data removed]",
      "text/plain": [
       "<Figure size 1400x700 with 2 Axes>"
      ]
     },
     "metadata": {},
     "output_type": "display_data"
    }
   ],
   "source": [
    "# Distributing all -ve sentiment tweets\n",
    "fig = plt.figure(figsize=(14,7))\n",
    "df1['word_count'] = df1.content.str.split().apply(len)\n",
    "ax1 = fig.add_subplot(122)\n",
    "# Specify the bin size (adjust as needed)\n",
    "bin_size = 40\n",
    "sns.histplot(df1[df1['category']=='Negative']['word_count'], ax=ax1,color='red',bins=bin_size)\n",
    "describe = df1.word_count[df1.category=='Negative'].describe().to_frame().round(2)\n",
    "\n",
    "ax2 = fig.add_subplot(121)\n",
    "ax2.axis('off')\n",
    "font_size = 14\n",
    "bbox = [0, 0, 1, 1]\n",
    "table = ax2.table(cellText = describe.values, rowLabels = describe.index, bbox=bbox, colLabels=describe.columns)\n",
    "table.set_fontsize(font_size)\n",
    "fig.suptitle('Distribution of text length for Negative sentiment Reviews.', fontsize=16)\n",
    "\n",
    "plt.show()"
   ]
  },
  {
   "cell_type": "markdown",
   "metadata": {
    "id": "nPMftLL-PVTF"
   },
   "source": [
    "# Displaying Neutral Distribution"
   ]
  },
  {
   "cell_type": "code",
   "execution_count": 43,
   "metadata": {
    "colab": {
     "base_uri": "https://localhost:8080/",
     "height": 689
    },
    "executionInfo": {
     "elapsed": 9695,
     "status": "ok",
     "timestamp": 1700455996716,
     "user": {
      "displayName": "Kashish Thakur",
      "userId": "02034585595225747286"
     },
     "user_tz": 480
    },
    "id": "AAVra8VtPaOX",
    "outputId": "77bbb399-abe0-42bb-a207-e44b551e412c"
   },
   "outputs": [
    {
     "data": {
      "image/png": "[encoded data removed]",
      "text/plain": [
       "<Figure size 1400x700 with 2 Axes>"
      ]
     },
     "metadata": {},
     "output_type": "display_data"
    }
   ],
   "source": [
    "# Distributing all -ve sentiment tweets\n",
    "fig = plt.figure(figsize=(14,7))\n",
    "df1['word_count'] = df1.content.str.split().apply(len)\n",
    "ax1 = fig.add_subplot(122)\n",
    "\n",
    "# Specify the bin size (adjust as needed)\n",
    "bin_size = 40\n",
    "sns.histplot(df1[df1['category']=='Neutral']['word_count'], ax=ax1,color='Yellow',bins=bin_size)\n",
    "describe = df1.word_count[df1.category=='Neutral'].describe().to_frame().round(2)\n",
    "\n",
    "ax2 = fig.add_subplot(121)\n",
    "ax2.axis('off')\n",
    "font_size = 14\n",
    "bbox = [0, 0, 1, 1]\n",
    "table = ax2.table(cellText = describe.values, rowLabels = describe.index, bbox=bbox, colLabels=describe.columns)\n",
    "table.set_fontsize(font_size)\n",
    "fig.suptitle('Distribution of text length for Neutral sentiment Reviews.', fontsize=16)\n",
    "\n",
    "plt.show()"
   ]
  },
  {
   "cell_type": "markdown",
   "metadata": {
    "id": "FcxAqKvSP_S0"
   },
   "source": [
    "# Wordcloud"
   ]
  },
  {
   "cell_type": "code",
   "execution_count": 44,
   "metadata": {
    "colab": {
     "base_uri": "https://localhost:8080/",
     "height": 782
    },
    "executionInfo": {
     "elapsed": 53755,
     "status": "ok",
     "timestamp": 1700456051176,
     "user": {
      "displayName": "Kashish Thakur",
      "userId": "02034585595225747286"
     },
     "user_tz": 480
    },
    "id": "M4BuuvoGP8JJ",
    "outputId": "73722d01-e188-4390-d5d8-e38708d6f7fb"
   },
   "outputs": [
    {
     "data": {
      "image/png": "[encoded data removed]",
      "text/plain": [
       "<Figure size 500x500 with 1 Axes>"
      ]
     },
     "metadata": {},
     "output_type": "display_data"
    },
    {
     "data": {
      "image/png": "[encoded data removed]",
      "text/plain": [
       "<Figure size 500x500 with 1 Axes>"
      ]
     },
     "metadata": {},
     "output_type": "display_data"
    },
    {
     "data": {
      "image/png": "[encoded data removed]",
      "text/plain": [
       "<Figure size 500x500 with 1 Axes>"
      ]
     },
     "metadata": {},
     "output_type": "display_data"
    }
   ],
   "source": [
    "from wordcloud import WordCloud, STOPWORDS\n",
    "\n",
    "def wordcount_gen(df, category):\n",
    "    '''\n",
    "    Generating Word Cloud\n",
    "    inputs:\n",
    "       - df: tweets dataset\n",
    "       - category: Positive/Negative/Neutral\n",
    "    '''\n",
    "    # mixing all tweets\n",
    "    combined_tweets = \" \".join([tweet for tweet in df[df1.category==category]['content']])\n",
    "\n",
    "    # starting wordcloud object\n",
    "    wc = WordCloud(background_color='white',\n",
    "                   max_words=50,\n",
    "                   stopwords = STOPWORDS)\n",
    "\n",
    "    # Create and plot wordcloud\n",
    "    plt.figure(figsize=(5,5))\n",
    "    plt.imshow(wc.generate(combined_tweets))\n",
    "    plt.title('{} Sentiment Words'.format(category), fontsize=30,color='black')\n",
    "    plt.axis('off')\n",
    "    plt.show()\n",
    "\n",
    "# +ve tweet words\n",
    "wordcount_gen(df1, 'Positive')\n",
    "\n",
    "# -ve tweet words\n",
    "wordcount_gen(df1, 'Negative')\n",
    "\n",
    "# Neutral tweet words\n",
    "wordcount_gen(df1, 'Neutral')\n",
    "\n"
   ]
  },
  {
   "cell_type": "code",
   "execution_count": 45,
   "metadata": {
    "colab": {
     "base_uri": "https://localhost:8080/"
    },
    "executionInfo": {
     "elapsed": 40,
     "status": "ok",
     "timestamp": 1700456051176,
     "user": {
      "displayName": "Kashish Thakur",
      "userId": "02034585595225747286"
     },
     "user_tz": 480
    },
    "id": "eEUVZ4ElC4L9",
    "outputId": "c17d9415-bbe9-4c4b-f861-0bd32b33c59f"
   },
   "outputs": [
    {
     "name": "stdout",
     "output_type": "stream",
     "text": [
      "The number of records  after removing duplicates in the review id column:  (923065, 18)\n"
     ]
    }
   ],
   "source": [
    "# Count the number of rows left after removing the null values in Review content column\n",
    "row_count = df1.shape\n",
    "print(\"The number of records  after removing duplicates in the review id column: \",row_count)"
   ]
  },
  {
   "cell_type": "code",
   "execution_count": 46,
   "metadata": {},
   "outputs": [
    {
     "name": "stdout",
     "output_type": "stream",
     "text": [
      "                                                  content\n",
      "400594                Excellent app so easy to book a cab\n",
      "400196                      Easy to use and great service\n",
      "400195                                             Great!\n",
      "400194  This app is awesome for $10 anywhere in Manhat...\n",
      "400193  Бонусные 300р за первую поездку можно использо...\n",
      "...                                                   ...\n",
      "391758  Searched for way over a hour for a taxi, only ...\n",
      "391757  Avoid at all costs. 4 mile trip, quoted a mini...\n",
      "391074  This app - and the service behind - fails in a...\n",
      "391073                                        Thank you !\n",
      "391072  אפליקציה מעולה, הנהגים פחות. הם מקבלים את הנסי...\n",
      "\n",
      "[923065 rows x 1 columns]\n"
     ]
    }
   ],
   "source": [
    "# Example of viewing the processed content\n",
    "print(df1[['content']])"
   ]
  },
  {
   "cell_type": "markdown",
   "metadata": {
    "id": "XVCzMuAqiSqx"
   },
   "source": [
    "# Data Normalization"
   ]
  },
  {
   "cell_type": "code",
   "execution_count": 47,
   "metadata": {
    "colab": {
     "base_uri": "https://localhost:8080/"
    },
    "executionInfo": {
     "elapsed": 2998,
     "status": "ok",
     "timestamp": 1700456102459,
     "user": {
      "displayName": "Kashish Thakur",
      "userId": "02034585595225747286"
     },
     "user_tz": 480
    },
    "id": "K687qhVMXQEO",
    "outputId": "d107c6e1-d79f-4a0e-f8d4-5f07d7fc1aed"
   },
   "outputs": [
    {
     "name": "stdout",
     "output_type": "stream",
     "text": [
      "       Unnamed: 0                              reviewId       userName  \\\n",
      "400594     9995.0  a7363846-8aa0-4ea4-a8b0-5429cba055b9  A Google user   \n",
      "400196     9597.0  74131d3c-0ba1-42bc-95b8-92ccd95c4fc1  A Google user   \n",
      "400195     9596.0  e52aca06-a9de-483d-8f93-ba8a675ec9a7  A Google user   \n",
      "400194     9595.0  0a33a4b8-1177-4702-b1fd-cc3098f6c628  A Google user   \n",
      "400192     9593.0  3dab83c0-8d5d-4100-bb83-2487e2ceb588  A Google user   \n",
      "\n",
      "                                                userImage  \\\n",
      "400594  https://play-lh.googleusercontent.com/EGemoI2N...   \n",
      "400196  https://play-lh.googleusercontent.com/EGemoI2N...   \n",
      "400195  https://play-lh.googleusercontent.com/EGemoI2N...   \n",
      "400194  https://play-lh.googleusercontent.com/EGemoI2N...   \n",
      "400192  https://play-lh.googleusercontent.com/EGemoI2N...   \n",
      "\n",
      "                                                  content  score  \\\n",
      "400594                Excellent app so easy to book a cab      5   \n",
      "400196                      Easy to use and great service      5   \n",
      "400195                                             Great!      5   \n",
      "400194  This app is awesome for $10 anywhere in Manhat...      5   \n",
      "400192                                       Good survice      5   \n",
      "\n",
      "        thumbsUpCount reviewCreatedVersion                at  \\\n",
      "400594              0                2.586  01-01-2014 10:05   \n",
      "400196              7               5.0.14  01-01-2015 01:08   \n",
      "400195              0               5.0.14  01-01-2015 10:13   \n",
      "400194              0               5.0.14  01-01-2015 11:03   \n",
      "400192              0               5.0.14  01-01-2015 16:28   \n",
      "\n",
      "                  replyContent         repliedAt appVersion    AppName  \\\n",
      "400594                      NA                NA      2.586  gett_taxi   \n",
      "400196                      NA                NA     5.0.14  gett_taxi   \n",
      "400195                      NA                NA     5.0.14  gett_taxi   \n",
      "400194                      NA                NA     5.0.14  gett_taxi   \n",
      "400192  Thank you very much (:  14-01-2015 02:42     5.0.14  gett_taxi   \n",
      "\n",
      "       App Domain  ReviewCharLength special_characters  category  word_count  \n",
      "400594   Car Ride                35                 []  Positive           8  \n",
      "400196   Car Ride                29                 []  Positive           6  \n",
      "400195   Car Ride                 6                 []  Positive           1  \n",
      "400194   Car Ride               127             [$, $]  Positive          24  \n",
      "400192   Car Ride                12                 []  Positive           2  \n"
     ]
    }
   ],
   "source": [
    "# English alphabets\n",
    "english_alphabets = \"abcdefghijklmnopqrstuvwxyzABCDEFGHIJKLMNOPQRSTUVWXYZ\"\n",
    "\n",
    "# Function to check if the string starts with an English character\n",
    "def starts_with_english(s):\n",
    "    if isinstance(s, str):\n",
    "        words = s.split()\n",
    "        if words:\n",
    "            return words[0][0] in english_alphabets\n",
    "    return False\n",
    "\n",
    "# Ensure 'content' column exists\n",
    "if 'content' in df1.columns:\n",
    "    # Filtering the DataFrame\n",
    "    df1 = df1[df1['content'].apply(starts_with_english)]\n",
    "\n",
    "# Displaying the first few rows of the filtered DataFrame\n",
    "    print(df1.head())\n",
    "else:\n",
    "    print(\"The 'content' column does not exist in the DataFrame.\")\n"
   ]
  },
  {
   "cell_type": "code",
   "execution_count": 48,
   "metadata": {},
   "outputs": [
    {
     "name": "stdout",
     "output_type": "stream",
     "text": [
      "                                                  content\n",
      "400594                Excellent app so easy to book a cab\n",
      "400196                      Easy to use and great service\n",
      "400195                                             Great!\n",
      "400194  This app is awesome for $10 anywhere in Manhat...\n",
      "400192                                       Good survice\n",
      "...                                                   ...\n",
      "391759                                      Good service \n",
      "391758  Searched for way over a hour for a taxi, only ...\n",
      "391757  Avoid at all costs. 4 mile trip, quoted a mini...\n",
      "391074  This app - and the service behind - fails in a...\n",
      "391073                                        Thank you !\n",
      "\n",
      "[905496 rows x 1 columns]\n"
     ]
    }
   ],
   "source": [
    "# Example of viewing the processed content\n",
    "print(df1[['content']])"
   ]
  },
  {
   "cell_type": "code",
   "execution_count": 49,
   "metadata": {},
   "outputs": [
    {
     "name": "stdout",
     "output_type": "stream",
     "text": [
      "\n",
      "Original review -> Convenience and easy to find flight with cheap and best options. Would be great if you could integrate public holiday and school holidays into the calendar when selecting the travel time.\n",
      "\n",
      "Processed review -> ['convenience', 'easy', 'find', 'flight', 'cheap', 'best', 'option', 'would', 'great', 'could', 'integrate', 'public', 'holiday', 'school', 'holiday', 'calendar', 'selecting', 'travel', 'time']\n",
      "['best']\n",
      "2\n"
     ]
    }
   ],
   "source": [
    "import re\n",
    "import nltk\n",
    "from nltk.corpus import stopwords\n",
    "from nltk.stem import WordNetLemmatizer\n",
    "from nltk.tokenize import word_tokenize\n",
    "\n",
    "# Ensure necessary NLTK data is downloaded\n",
    "nltk_data = ['punkt', 'wordnet', 'stopwords']\n",
    "for data in nltk_data:\n",
    "    nltk.download(data, quiet=True)\n",
    "\n",
    "def tweet_to_words(tweet):\n",
    "    if not isinstance(tweet, str):\n",
    "        return []  # Return an empty list for non-string input\n",
    "\n",
    "    # Lowercase the text\n",
    "    text = tweet.lower()\n",
    "    \n",
    "    # Tokenization\n",
    "    tokens = word_tokenize(text)\n",
    "    \n",
    "    # Remove stopwords\n",
    "    stop_words = set(stopwords.words('english'))\n",
    "    tokens = [word for word in tokens if word.lower() not in stop_words and word.isalpha()]\n",
    "    \n",
    "    # Apply lemmatization\n",
    "    lemmatizer = WordNetLemmatizer()\n",
    "    tokens = [lemmatizer.lemmatize(word) for word in tokens]\n",
    "\n",
    "    # Return the processed list of words\n",
    "    return tokens\n",
    "\n",
    "# Apply the function to the 'content' column\n",
    "df1['processed_content'] = df1['content'].apply(tweet_to_words)\n",
    "\n",
    "# Assuming df1 is your DataFrame and 'content' is the column with text data\n",
    "print(\"\\nOriginal review ->\", df1['content'][5])\n",
    "print(\"\\nProcessed review ->\", df1['processed_content'][5])\n",
    "\n",
    "# Applying data processing to individual data\n",
    "X = list(map(tweet_to_words, df1['content']))\n",
    "\n",
    "from sklearn.preprocessing import LabelEncoder\n",
    "\n",
    "le = LabelEncoder()\n",
    "Y = le.fit_transform(df1['category'])\n",
    "\n",
    "# Displaying the processed content and category for the 5th row\n",
    "print(X[5])\n",
    "print(Y[5])\n"
   ]
  },
  {
   "cell_type": "code",
   "execution_count": 50,
   "metadata": {
    "colab": {
     "base_uri": "https://localhost:8080/"
    },
    "executionInfo": {
     "elapsed": 290,
     "status": "ok",
     "timestamp": 1700457736035,
     "user": {
      "displayName": "Kashish Thakur",
      "userId": "02034585595225747286"
     },
     "user_tz": 480
    },
    "id": "Z1AGVzLElbt2",
    "outputId": "a67e0815-38db-4b16-af9e-f5f602d73f3e"
   },
   "outputs": [
    {
     "name": "stdout",
     "output_type": "stream",
     "text": [
      "Number of Records after Data Transformation  (905496, 19)\n"
     ]
    }
   ],
   "source": [
    "# Number of records in the dataset\n",
    "row_count = df1.shape\n",
    "print(\"Number of Records after Data Transformation \",row_count)"
   ]
  },
  {
   "cell_type": "code",
   "execution_count": 51,
   "metadata": {},
   "outputs": [
    {
     "name": "stdout",
     "output_type": "stream",
     "text": [
      "                                                  content\n",
      "391759                                      Good service \n",
      "391758  Searched for way over a hour for a taxi, only ...\n",
      "391757  Avoid at all costs. 4 mile trip, quoted a mini...\n",
      "391074  This app - and the service behind - fails in a...\n",
      "391073                                        Thank you !\n"
     ]
    }
   ],
   "source": [
    "# Example of viewing the processed content\n",
    "print(df1[['content']].tail())"
   ]
  },
  {
   "cell_type": "markdown",
   "metadata": {
    "id": "cRRspiOygPXy"
   },
   "source": [
    "# Handling Inconsistent Data"
   ]
  },
  {
   "cell_type": "markdown",
   "metadata": {
    "id": "Z-rspgnzgSv_"
   },
   "source": [
    "### Checking User Rating and Review Mismatch"
   ]
  },
  {
   "cell_type": "code",
   "execution_count": 52,
   "metadata": {
    "executionInfo": {
     "elapsed": 16129,
     "status": "ok",
     "timestamp": 1700457768096,
     "user": {
      "displayName": "Kashish Thakur",
      "userId": "02034585595225747286"
     },
     "user_tz": 480
    },
    "id": "VX1WPMfXgVJn"
   },
   "outputs": [],
   "source": [
    "#Check for mismatched ratings and comments (where we have a 5-point rating scale)\n",
    "df1['rating_comment_mismatch'] = df1.apply(\n",
    "    lambda row: (row['score'] > 3 and 'worst' in row['content']) or\n",
    "                (row['score'] < 3 and 'good' in row['content']), axis=1)"
   ]
  },
  {
   "cell_type": "code",
   "execution_count": 53,
   "metadata": {
    "colab": {
     "base_uri": "https://localhost:8080/"
    },
    "executionInfo": {
     "elapsed": 6,
     "status": "ok",
     "timestamp": 1700457769138,
     "user": {
      "displayName": "Kashish Thakur",
      "userId": "02034585595225747286"
     },
     "user_tz": 480
    },
    "id": "qPb3fouhgah6",
    "outputId": "c029c49f-22b2-4579-9a70-cf4e395b3676"
   },
   "outputs": [
    {
     "name": "stdout",
     "output_type": "stream",
     "text": [
      "The number of mismatch between the Review content and Reviewer Score: 8469\n"
     ]
    }
   ],
   "source": [
    "#To check the count of rating mismatch\n",
    "print(\"The number of mismatch between the Review content and Reviewer Score:\",df1['rating_comment_mismatch'].value_counts()[True])"
   ]
  },
  {
   "cell_type": "code",
   "execution_count": 54,
   "metadata": {
    "colab": {
     "base_uri": "https://localhost:8080/"
    },
    "executionInfo": {
     "elapsed": 5,
     "status": "ok",
     "timestamp": 1700457769138,
     "user": {
      "displayName": "Kashish Thakur",
      "userId": "02034585595225747286"
     },
     "user_tz": 480
    },
    "id": "3Y1L6YUugc8N",
    "outputId": "306d7061-4ce9-413c-f68b-c6cf5ff34e53"
   },
   "outputs": [
    {
     "name": "stdout",
     "output_type": "stream",
     "text": [
      "400594    False\n",
      "400196    False\n",
      "400195    False\n",
      "400194    False\n",
      "400192    False\n",
      "          ...  \n",
      "391759    False\n",
      "391758    False\n",
      "391757    False\n",
      "391074    False\n",
      "391073    False\n",
      "Name: rating_comment_mismatch, Length: 905496, dtype: bool\n"
     ]
    }
   ],
   "source": [
    " #Checking the rating mismatch\n",
    "print(df1['rating_comment_mismatch'])"
   ]
  },
  {
   "cell_type": "markdown",
   "metadata": {
    "id": "tQlCb-4ZgfT4"
   },
   "source": [
    "## Inconsistent datatypes"
   ]
  },
  {
   "cell_type": "code",
   "execution_count": 55,
   "metadata": {
    "colab": {
     "base_uri": "https://localhost:8080/"
    },
    "executionInfo": {
     "elapsed": 4,
     "status": "ok",
     "timestamp": 1700457769138,
     "user": {
      "displayName": "Kashish Thakur",
      "userId": "02034585595225747286"
     },
     "user_tz": 480
    },
    "id": "jBkAYuIjgf95",
    "outputId": "36425d0d-2522-498a-b704-858d9ed9de97"
   },
   "outputs": [
    {
     "data": {
      "text/plain": [
       "Unnamed: 0                 object\n",
       "reviewId                   object\n",
       "userName                   object\n",
       "userImage                  object\n",
       "content                    object\n",
       "score                       int64\n",
       "thumbsUpCount               int64\n",
       "reviewCreatedVersion       object\n",
       "at                         object\n",
       "replyContent               object\n",
       "repliedAt                  object\n",
       "appVersion                 object\n",
       "AppName                    object\n",
       "App Domain                 object\n",
       "ReviewCharLength            int64\n",
       "special_characters         object\n",
       "category                   object\n",
       "word_count                  int64\n",
       "processed_content          object\n",
       "rating_comment_mismatch      bool\n",
       "dtype: object"
      ]
     },
     "execution_count": 55,
     "metadata": {},
     "output_type": "execute_result"
    }
   ],
   "source": [
    "df1.dtypes"
   ]
  },
  {
   "cell_type": "markdown",
   "metadata": {
    "id": "t8QmCMtmglMX"
   },
   "source": [
    "## Converting 'At' Column representing Timestamp of Review to Standard Date & Time Format"
   ]
  },
  {
   "cell_type": "code",
   "execution_count": 56,
   "metadata": {
    "executionInfo": {
     "elapsed": 1827,
     "status": "ok",
     "timestamp": 1700457770963,
     "user": {
      "displayName": "Kashish Thakur",
      "userId": "02034585595225747286"
     },
     "user_tz": 480
    },
    "id": "Za9gJbzdgi7c"
   },
   "outputs": [],
   "source": [
    "# Convert date to a standard format (e.g., YYYY-MM-DD)\n",
    "df1['at'] = pd.to_datetime(df1['at'], errors='coerce')  # 'coerce' will set invalid parsing as NaT"
   ]
  },
  {
   "cell_type": "code",
   "execution_count": 57,
   "metadata": {
    "colab": {
     "base_uri": "https://localhost:8080/"
    },
    "executionInfo": {
     "elapsed": 2,
     "status": "ok",
     "timestamp": 1700457770963,
     "user": {
      "displayName": "Kashish Thakur",
      "userId": "02034585595225747286"
     },
     "user_tz": 480
    },
    "id": "9xLZmuXXgovC",
    "outputId": "b87b820e-d96d-4943-90e2-52d529e7ce26"
   },
   "outputs": [
    {
     "data": {
      "text/plain": [
       "Unnamed: 0                         object\n",
       "reviewId                           object\n",
       "userName                           object\n",
       "userImage                          object\n",
       "content                            object\n",
       "score                               int64\n",
       "thumbsUpCount                       int64\n",
       "reviewCreatedVersion               object\n",
       "at                         datetime64[ns]\n",
       "replyContent                       object\n",
       "repliedAt                          object\n",
       "appVersion                         object\n",
       "AppName                            object\n",
       "App Domain                         object\n",
       "ReviewCharLength                    int64\n",
       "special_characters                 object\n",
       "category                           object\n",
       "word_count                          int64\n",
       "processed_content                  object\n",
       "rating_comment_mismatch              bool\n",
       "dtype: object"
      ]
     },
     "execution_count": 57,
     "metadata": {},
     "output_type": "execute_result"
    }
   ],
   "source": [
    "df1.dtypes"
   ]
  },
  {
   "cell_type": "markdown",
   "metadata": {
    "id": "OVbvgNlrgs90"
   },
   "source": [
    "##Removing Outliers"
   ]
  },
  {
   "cell_type": "code",
   "execution_count": 58,
   "metadata": {
    "executionInfo": {
     "elapsed": 404,
     "status": "ok",
     "timestamp": 1700457771366,
     "user": {
      "displayName": "Kashish Thakur",
      "userId": "02034585595225747286"
     },
     "user_tz": 480
    },
    "id": "rHf8F2ihgtof"
   },
   "outputs": [],
   "source": [
    "# Removing outliers\n",
    "rating_mean = df1['score'].mean()\n",
    "rating_std = df1['score'].std()\n",
    "df1 = df1[(df1['score'] > rating_mean - 3 * rating_std) & (df1['score'] < rating_mean + 3 * rating_std)]"
   ]
  },
  {
   "cell_type": "code",
   "execution_count": 59,
   "metadata": {
    "colab": {
     "base_uri": "https://localhost:8080/"
    },
    "executionInfo": {
     "elapsed": 2,
     "status": "ok",
     "timestamp": 1700457771366,
     "user": {
      "displayName": "Kashish Thakur",
      "userId": "02034585595225747286"
     },
     "user_tz": 480
    },
    "id": "rh4X_r0Lgvwf",
    "outputId": "89444ba3-7e5f-4aaf-be7d-547c592fb814"
   },
   "outputs": [
    {
     "name": "stdout",
     "output_type": "stream",
     "text": [
      "[5 2 1 4 3 0]\n"
     ]
    }
   ],
   "source": [
    "#Check the unique values in Score Column\n",
    "unique_values = df1['score'].unique()\n",
    "print(unique_values)"
   ]
  },
  {
   "cell_type": "markdown",
   "metadata": {
    "id": "yJYcXc74joea"
   },
   "source": [
    "#Handling  HTML Tags"
   ]
  },
  {
   "cell_type": "code",
   "execution_count": 60,
   "metadata": {
    "executionInfo": {
     "elapsed": 1983,
     "status": "ok",
     "timestamp": 1700457777559,
     "user": {
      "displayName": "Kashish Thakur",
      "userId": "02034585595225747286"
     },
     "user_tz": 480
    },
    "id": "OxgpuBF4jtEI"
   },
   "outputs": [],
   "source": [
    "#Handling HTML Tags (if applicable)\n",
    "df1['content'] = df1['content'].str.replace('<[^<]+?>', '', regex=True)\n"
   ]
  },
  {
   "cell_type": "code",
   "execution_count": 61,
   "metadata": {
    "colab": {
     "base_uri": "https://localhost:8080/"
    },
    "executionInfo": {
     "elapsed": 3034,
     "status": "ok",
     "timestamp": 1700457780591,
     "user": {
      "displayName": "Kashish Thakur",
      "userId": "02034585595225747286"
     },
     "user_tz": 480
    },
    "id": "eHegPqnCmRJT",
    "outputId": "596c5529-7b74-4298-9446-ff1d8a1d7b0f"
   },
   "outputs": [
    {
     "name": "stdout",
     "output_type": "stream",
     "text": [
      "Is there any HTML Tags in the Text?:\n",
      " 400594    False\n",
      "400196    False\n",
      "400195    False\n",
      "400194    False\n",
      "400192    False\n",
      "          ...  \n",
      "391759    False\n",
      "391758    False\n",
      "391757    False\n",
      "391074    False\n",
      "391073    False\n",
      "Name: has_html_tags, Length: 905496, dtype: bool\n"
     ]
    }
   ],
   "source": [
    "def has_html_tags(text):\n",
    "    # Define a regular expression pattern for HTML tags\n",
    "    html_tags_pattern = re.compile(r'<.*?>')\n",
    "\n",
    "    # Use findall to get all matches of the pattern in the text\n",
    "    html_tags = re.findall(html_tags_pattern, text)\n",
    "\n",
    "    # Check if any HTML tags were found\n",
    "    return bool(html_tags)\n",
    "\n",
    "# Apply the function to each row of the DataFrame\n",
    "df1['has_html_tags'] = df1['content'].apply(has_html_tags)\n",
    "\n",
    "# Display the DataFrame\n",
    "print(\"Is there any HTML Tags in the Text?:\\n\",df1['has_html_tags'])"
   ]
  },
  {
   "cell_type": "code",
   "execution_count": 62,
   "metadata": {},
   "outputs": [
    {
     "name": "stdout",
     "output_type": "stream",
     "text": [
      "                                                  content\n",
      "391759                                      Good service \n",
      "391758  Searched for way over a hour for a taxi, only ...\n",
      "391757  Avoid at all costs. 4 mile trip, quoted a mini...\n",
      "391074  This app - and the service behind - fails in a...\n",
      "391073                                        Thank you !\n"
     ]
    }
   ],
   "source": [
    "# Example of viewing the processed content\n",
    "print(df1[['content']].tail())"
   ]
  },
  {
   "cell_type": "code",
   "execution_count": 63,
   "metadata": {
    "colab": {
     "base_uri": "https://localhost:8080/"
    },
    "executionInfo": {
     "elapsed": 337,
     "status": "ok",
     "timestamp": 1700458308275,
     "user": {
      "displayName": "Kashish Thakur",
      "userId": "02034585595225747286"
     },
     "user_tz": 480
    },
    "id": "IhM1D9JdmWmk",
    "outputId": "10b6c08f-63a5-44cd-c315-16c60902dcfe"
   },
   "outputs": [
    {
     "name": "stdout",
     "output_type": "stream",
     "text": [
      "Number of Records after Data Transformation  (905496, 21)\n"
     ]
    }
   ],
   "source": [
    "# Number of records in the dataset\n",
    "row_count = df1.shape\n",
    "print(\"Number of Records after Data Transformation \",row_count)"
   ]
  },
  {
   "cell_type": "code",
   "execution_count": 64,
   "metadata": {
    "colab": {
     "base_uri": "https://localhost:8080/"
    },
    "executionInfo": {
     "elapsed": 2546,
     "status": "ok",
     "timestamp": 1700457845787,
     "user": {
      "displayName": "Kashish Thakur",
      "userId": "02034585595225747286"
     },
     "user_tz": 480
    },
    "id": "1fWxSpnALukc",
    "outputId": "c23d97fb-dde8-46f7-f89d-fb6d3a5e8752"
   },
   "outputs": [
    {
     "data": {
      "text/plain": [
       "Unnamed: 0                 0\n",
       "reviewId                   0\n",
       "userName                   0\n",
       "userImage                  0\n",
       "content                    0\n",
       "score                      0\n",
       "thumbsUpCount              0\n",
       "reviewCreatedVersion       0\n",
       "at                         0\n",
       "replyContent               0\n",
       "repliedAt                  0\n",
       "appVersion                 0\n",
       "AppName                    0\n",
       "App Domain                 0\n",
       "ReviewCharLength           0\n",
       "special_characters         0\n",
       "category                   0\n",
       "word_count                 0\n",
       "processed_content          0\n",
       "rating_comment_mismatch    0\n",
       "has_html_tags              0\n",
       "dtype: int64"
      ]
     },
     "execution_count": 64,
     "metadata": {},
     "output_type": "execute_result"
    }
   ],
   "source": [
    "df1.isnull().sum()"
   ]
  },
  {
   "cell_type": "markdown",
   "metadata": {
    "id": "f_um-htIj4zP"
   },
   "source": [
    "#Scaling Numerical Features"
   ]
  },
  {
   "cell_type": "code",
   "execution_count": 65,
   "metadata": {
    "executionInfo": {
     "elapsed": 1402,
     "status": "ok",
     "timestamp": 1700458277644,
     "user": {
      "displayName": "Kashish Thakur",
      "userId": "02034585595225747286"
     },
     "user_tz": 480
    },
    "id": "deA8d-Kzj36U"
   },
   "outputs": [],
   "source": [
    "from sklearn.preprocessing import MinMaxScaler\n",
    "df1['ReviewCharLength'] = df1['content'].apply(len)\n",
    "scaler = MinMaxScaler()\n",
    "df1[['thumbsUpCount', 'ReviewCharLength']] = scaler.fit_transform(df1[['thumbsUpCount', 'ReviewCharLength']])"
   ]
  },
  {
   "cell_type": "code",
   "execution_count": 66,
   "metadata": {
    "colab": {
     "base_uri": "https://localhost:8080/",
     "height": 602
    },
    "executionInfo": {
     "elapsed": 338,
     "status": "ok",
     "timestamp": 1700458279263,
     "user": {
      "displayName": "Kashish Thakur",
      "userId": "02034585595225747286"
     },
     "user_tz": 480
    },
    "id": "s-2Zk8WrkbXv",
    "outputId": "cb5e9771-582d-49c1-e2fc-5e78c48905bd"
   },
   "outputs": [
    {
     "data": {
      "text/html": [
       "<div>\n",
       "<style scoped>\n",
       "    .dataframe tbody tr th:only-of-type {\n",
       "        vertical-align: middle;\n",
       "    }\n",
       "\n",
       "    .dataframe tbody tr th {\n",
       "        vertical-align: top;\n",
       "    }\n",
       "\n",
       "    .dataframe thead th {\n",
       "        text-align: right;\n",
       "    }\n",
       "</style>\n",
       "<table border=\"1\" class=\"dataframe\">\n",
       "  <thead>\n",
       "    <tr style=\"text-align: right;\">\n",
       "      <th></th>\n",
       "      <th>Unnamed: 0</th>\n",
       "      <th>reviewId</th>\n",
       "      <th>userName</th>\n",
       "      <th>userImage</th>\n",
       "      <th>content</th>\n",
       "      <th>score</th>\n",
       "      <th>thumbsUpCount</th>\n",
       "      <th>reviewCreatedVersion</th>\n",
       "      <th>at</th>\n",
       "      <th>replyContent</th>\n",
       "      <th>...</th>\n",
       "      <th>appVersion</th>\n",
       "      <th>AppName</th>\n",
       "      <th>App Domain</th>\n",
       "      <th>ReviewCharLength</th>\n",
       "      <th>special_characters</th>\n",
       "      <th>category</th>\n",
       "      <th>word_count</th>\n",
       "      <th>processed_content</th>\n",
       "      <th>rating_comment_mismatch</th>\n",
       "      <th>has_html_tags</th>\n",
       "    </tr>\n",
       "  </thead>\n",
       "  <tbody>\n",
       "    <tr>\n",
       "      <th>400594</th>\n",
       "      <td>9995.0</td>\n",
       "      <td>a7363846-8aa0-4ea4-a8b0-5429cba055b9</td>\n",
       "      <td>A Google user</td>\n",
       "      <td>https://play-lh.googleusercontent.com/EGemoI2N...</td>\n",
       "      <td>Excellent app so easy to book a cab</td>\n",
       "      <td>5</td>\n",
       "      <td>0.000000</td>\n",
       "      <td>2.586</td>\n",
       "      <td>2014-01-01 10:05:00</td>\n",
       "      <td>NA</td>\n",
       "      <td>...</td>\n",
       "      <td>2.586</td>\n",
       "      <td>gett_taxi</td>\n",
       "      <td>Car Ride</td>\n",
       "      <td>0.008833</td>\n",
       "      <td>[]</td>\n",
       "      <td>Positive</td>\n",
       "      <td>8</td>\n",
       "      <td>[excellent, app, easy, book, cab]</td>\n",
       "      <td>False</td>\n",
       "      <td>False</td>\n",
       "    </tr>\n",
       "    <tr>\n",
       "      <th>400196</th>\n",
       "      <td>9597.0</td>\n",
       "      <td>74131d3c-0ba1-42bc-95b8-92ccd95c4fc1</td>\n",
       "      <td>A Google user</td>\n",
       "      <td>https://play-lh.googleusercontent.com/EGemoI2N...</td>\n",
       "      <td>Easy to use and great service</td>\n",
       "      <td>5</td>\n",
       "      <td>0.003998</td>\n",
       "      <td>5.0.14</td>\n",
       "      <td>2015-01-01 01:08:00</td>\n",
       "      <td>NA</td>\n",
       "      <td>...</td>\n",
       "      <td>5.0.14</td>\n",
       "      <td>gett_taxi</td>\n",
       "      <td>Car Ride</td>\n",
       "      <td>0.007275</td>\n",
       "      <td>[]</td>\n",
       "      <td>Positive</td>\n",
       "      <td>6</td>\n",
       "      <td>[easy, use, great, service]</td>\n",
       "      <td>False</td>\n",
       "      <td>False</td>\n",
       "    </tr>\n",
       "    <tr>\n",
       "      <th>400195</th>\n",
       "      <td>9596.0</td>\n",
       "      <td>e52aca06-a9de-483d-8f93-ba8a675ec9a7</td>\n",
       "      <td>A Google user</td>\n",
       "      <td>https://play-lh.googleusercontent.com/EGemoI2N...</td>\n",
       "      <td>Great!</td>\n",
       "      <td>5</td>\n",
       "      <td>0.000000</td>\n",
       "      <td>5.0.14</td>\n",
       "      <td>2015-01-01 10:13:00</td>\n",
       "      <td>NA</td>\n",
       "      <td>...</td>\n",
       "      <td>5.0.14</td>\n",
       "      <td>gett_taxi</td>\n",
       "      <td>Car Ride</td>\n",
       "      <td>0.001299</td>\n",
       "      <td>[]</td>\n",
       "      <td>Positive</td>\n",
       "      <td>1</td>\n",
       "      <td>[great]</td>\n",
       "      <td>False</td>\n",
       "      <td>False</td>\n",
       "    </tr>\n",
       "    <tr>\n",
       "      <th>400194</th>\n",
       "      <td>9595.0</td>\n",
       "      <td>0a33a4b8-1177-4702-b1fd-cc3098f6c628</td>\n",
       "      <td>A Google user</td>\n",
       "      <td>https://play-lh.googleusercontent.com/EGemoI2N...</td>\n",
       "      <td>This app is awesome for $10 anywhere in Manhat...</td>\n",
       "      <td>5</td>\n",
       "      <td>0.000000</td>\n",
       "      <td>5.0.14</td>\n",
       "      <td>2015-01-01 11:03:00</td>\n",
       "      <td>NA</td>\n",
       "      <td>...</td>\n",
       "      <td>5.0.14</td>\n",
       "      <td>gett_taxi</td>\n",
       "      <td>Car Ride</td>\n",
       "      <td>0.032736</td>\n",
       "      <td>[$, $]</td>\n",
       "      <td>Positive</td>\n",
       "      <td>24</td>\n",
       "      <td>[app, awesome, anywhere, manhattan, also, get,...</td>\n",
       "      <td>False</td>\n",
       "      <td>False</td>\n",
       "    </tr>\n",
       "    <tr>\n",
       "      <th>400192</th>\n",
       "      <td>9593.0</td>\n",
       "      <td>3dab83c0-8d5d-4100-bb83-2487e2ceb588</td>\n",
       "      <td>A Google user</td>\n",
       "      <td>https://play-lh.googleusercontent.com/EGemoI2N...</td>\n",
       "      <td>Good survice</td>\n",
       "      <td>5</td>\n",
       "      <td>0.000000</td>\n",
       "      <td>5.0.14</td>\n",
       "      <td>2015-01-01 16:28:00</td>\n",
       "      <td>Thank you very much (:</td>\n",
       "      <td>...</td>\n",
       "      <td>5.0.14</td>\n",
       "      <td>gett_taxi</td>\n",
       "      <td>Car Ride</td>\n",
       "      <td>0.002858</td>\n",
       "      <td>[]</td>\n",
       "      <td>Positive</td>\n",
       "      <td>2</td>\n",
       "      <td>[good, survice]</td>\n",
       "      <td>False</td>\n",
       "      <td>False</td>\n",
       "    </tr>\n",
       "  </tbody>\n",
       "</table>\n",
       "<p>5 rows × 21 columns</p>\n",
       "</div>"
      ],
      "text/plain": [
       "       Unnamed: 0                              reviewId       userName  \\\n",
       "400594     9995.0  a7363846-8aa0-4ea4-a8b0-5429cba055b9  A Google user   \n",
       "400196     9597.0  74131d3c-0ba1-42bc-95b8-92ccd95c4fc1  A Google user   \n",
       "400195     9596.0  e52aca06-a9de-483d-8f93-ba8a675ec9a7  A Google user   \n",
       "400194     9595.0  0a33a4b8-1177-4702-b1fd-cc3098f6c628  A Google user   \n",
       "400192     9593.0  3dab83c0-8d5d-4100-bb83-2487e2ceb588  A Google user   \n",
       "\n",
       "                                                userImage  \\\n",
       "400594  https://play-lh.googleusercontent.com/EGemoI2N...   \n",
       "400196  https://play-lh.googleusercontent.com/EGemoI2N...   \n",
       "400195  https://play-lh.googleusercontent.com/EGemoI2N...   \n",
       "400194  https://play-lh.googleusercontent.com/EGemoI2N...   \n",
       "400192  https://play-lh.googleusercontent.com/EGemoI2N...   \n",
       "\n",
       "                                                  content  score  \\\n",
       "400594                Excellent app so easy to book a cab      5   \n",
       "400196                      Easy to use and great service      5   \n",
       "400195                                             Great!      5   \n",
       "400194  This app is awesome for $10 anywhere in Manhat...      5   \n",
       "400192                                       Good survice      5   \n",
       "\n",
       "        thumbsUpCount reviewCreatedVersion                  at  \\\n",
       "400594       0.000000                2.586 2014-01-01 10:05:00   \n",
       "400196       0.003998               5.0.14 2015-01-01 01:08:00   \n",
       "400195       0.000000               5.0.14 2015-01-01 10:13:00   \n",
       "400194       0.000000               5.0.14 2015-01-01 11:03:00   \n",
       "400192       0.000000               5.0.14 2015-01-01 16:28:00   \n",
       "\n",
       "                  replyContent  ... appVersion    AppName App Domain  \\\n",
       "400594                      NA  ...      2.586  gett_taxi   Car Ride   \n",
       "400196                      NA  ...     5.0.14  gett_taxi   Car Ride   \n",
       "400195                      NA  ...     5.0.14  gett_taxi   Car Ride   \n",
       "400194                      NA  ...     5.0.14  gett_taxi   Car Ride   \n",
       "400192  Thank you very much (:  ...     5.0.14  gett_taxi   Car Ride   \n",
       "\n",
       "       ReviewCharLength  special_characters  category word_count  \\\n",
       "400594         0.008833                  []  Positive          8   \n",
       "400196         0.007275                  []  Positive          6   \n",
       "400195         0.001299                  []  Positive          1   \n",
       "400194         0.032736              [$, $]  Positive         24   \n",
       "400192         0.002858                  []  Positive          2   \n",
       "\n",
       "                                        processed_content  \\\n",
       "400594                  [excellent, app, easy, book, cab]   \n",
       "400196                        [easy, use, great, service]   \n",
       "400195                                            [great]   \n",
       "400194  [app, awesome, anywhere, manhattan, also, get,...   \n",
       "400192                                    [good, survice]   \n",
       "\n",
       "       rating_comment_mismatch  has_html_tags  \n",
       "400594                   False          False  \n",
       "400196                   False          False  \n",
       "400195                   False          False  \n",
       "400194                   False          False  \n",
       "400192                   False          False  \n",
       "\n",
       "[5 rows x 21 columns]"
      ]
     },
     "execution_count": 66,
     "metadata": {},
     "output_type": "execute_result"
    }
   ],
   "source": [
    "df1.head()"
   ]
  },
  {
   "cell_type": "markdown",
   "metadata": {
    "id": "N_xnSQYkkYVT"
   },
   "source": [
    "#Data Reduction"
   ]
  },
  {
   "cell_type": "code",
   "execution_count": 67,
   "metadata": {
    "colab": {
     "base_uri": "https://localhost:8080/"
    },
    "executionInfo": {
     "elapsed": 361,
     "status": "ok",
     "timestamp": 1700458281156,
     "user": {
      "displayName": "Kashish Thakur",
      "userId": "02034585595225747286"
     },
     "user_tz": 480
    },
    "id": "iWfnzf66kjey",
    "outputId": "1445e469-3e2d-46df-c409-3bf4ddbb6296"
   },
   "outputs": [
    {
     "name": "stdout",
     "output_type": "stream",
     "text": [
      "['content', 'score', 'thumbsUpCount', 'reviewCreatedVersion', 'at', 'appVersion', 'AppName', 'App Domain', 'ReviewCharLength', 'category', 'word_count', 'processed_content']\n"
     ]
    }
   ],
   "source": [
    "columns_to_drop = ['Unnamed: 0','reviewId', 'userName', 'userImage', 'replyContent', 'repliedAt','special_characters','rating_comment_mismatch','has_html_tags' ]\n",
    "\n",
    "reduced_df = df1.drop(columns=columns_to_drop, axis=1)\n",
    "\n",
    "reduced_df.head()\n",
    "\n",
    "column_names = reduced_df.columns.tolist()\n",
    "print(column_names)"
   ]
  },
  {
   "cell_type": "code",
   "execution_count": 68,
   "metadata": {},
   "outputs": [
    {
     "data": {
      "text/plain": [
       "(905496, 12)"
      ]
     },
     "execution_count": 68,
     "metadata": {},
     "output_type": "execute_result"
    }
   ],
   "source": [
    "reduced_df.shape"
   ]
  },
  {
   "cell_type": "code",
   "execution_count": 69,
   "metadata": {},
   "outputs": [
    {
     "name": "stdout",
     "output_type": "stream",
     "text": [
      "Covariance between score and thumbsUpCount: -0.0012272588327912955\n",
      "Correlation between score and thumbsUpCount: -0.09741585641137765\n"
     ]
    }
   ],
   "source": [
    "# Select two columns for which you want to find covariance and correlation\n",
    "column1 = 'score'\n",
    "\n",
    "column2 = 'thumbsUpCount'\n",
    "\n",
    "# Calculate covariance\n",
    "covariance_value = df1[column1].cov(df1[column2])\n",
    "\n",
    "# Calculate correlation\n",
    "correlation_value = df1[column1].corr(df1[column2])\n",
    "\n",
    "# Display the results\n",
    "print(f'Covariance between {column1} and {column2}: {covariance_value}')\n",
    "print(f'Correlation between {column1} and {column2}: {correlation_value}')\n"
   ]
  },
  {
   "cell_type": "code",
   "execution_count": 65,
   "metadata": {
    "id": "VSQI7o8bhiX2"
   },
   "outputs": [
    {
     "data": {
      "image/png": "[encoded data removed]",
      "text/plain": [
       "<Figure size 1200x800 with 1 Axes>"
      ]
     },
     "metadata": {},
     "output_type": "display_data"
    }
   ],
   "source": [
    "import seaborn as sns\n",
    "import matplotlib.pyplot as plt\n",
    "\n",
    "\n",
    "# Set up the matplotlib figure\n",
    "plt.figure(figsize=(12, 8))\n",
    "\n",
    "# Create a histogram using Seaborn\n",
    "sns.histplot(df1['score'], bins=10, kde=True, color='skyblue', edgecolor='black')\n",
    "plt.xticks([1, 2, 3, 4, 5])\n",
    "# Add labels and title\n",
    "plt.xlabel('Score')\n",
    "plt.ylabel('Frequency')\n",
    "plt.title('Distribution of Scores')\n",
    "\n",
    "# Display the plot\n",
    "plt.show()"
   ]
  },
  {
   "cell_type": "code",
   "execution_count": 70,
   "metadata": {},
   "outputs": [
    {
     "data": {
      "text/html": [
       "<div>\n",
       "<style scoped>\n",
       "    .dataframe tbody tr th:only-of-type {\n",
       "        vertical-align: middle;\n",
       "    }\n",
       "\n",
       "    .dataframe tbody tr th {\n",
       "        vertical-align: top;\n",
       "    }\n",
       "\n",
       "    .dataframe thead th {\n",
       "        text-align: right;\n",
       "    }\n",
       "</style>\n",
       "<table border=\"1\" class=\"dataframe\">\n",
       "  <thead>\n",
       "    <tr style=\"text-align: right;\">\n",
       "      <th></th>\n",
       "      <th>content</th>\n",
       "      <th>score</th>\n",
       "      <th>thumbsUpCount</th>\n",
       "      <th>reviewCreatedVersion</th>\n",
       "      <th>at</th>\n",
       "      <th>appVersion</th>\n",
       "      <th>AppName</th>\n",
       "      <th>App Domain</th>\n",
       "      <th>ReviewCharLength</th>\n",
       "      <th>category</th>\n",
       "      <th>word_count</th>\n",
       "      <th>processed_content</th>\n",
       "    </tr>\n",
       "  </thead>\n",
       "  <tbody>\n",
       "    <tr>\n",
       "      <th>391759</th>\n",
       "      <td>Good service</td>\n",
       "      <td>5</td>\n",
       "      <td>0.00000</td>\n",
       "      <td>10.12.19</td>\n",
       "      <td>2021-12-31 09:21:00</td>\n",
       "      <td>10.12.19</td>\n",
       "      <td>gett_taxi</td>\n",
       "      <td>Car Ride</td>\n",
       "      <td>0.003118</td>\n",
       "      <td>Positive</td>\n",
       "      <td>2</td>\n",
       "      <td>[good, service]</td>\n",
       "    </tr>\n",
       "    <tr>\n",
       "      <th>391758</th>\n",
       "      <td>Searched for way over a hour for a taxi, only ...</td>\n",
       "      <td>1</td>\n",
       "      <td>0.00000</td>\n",
       "      <td>10.12.19</td>\n",
       "      <td>2021-12-31 16:17:00</td>\n",
       "      <td>10.12.19</td>\n",
       "      <td>gett_taxi</td>\n",
       "      <td>Car Ride</td>\n",
       "      <td>0.032216</td>\n",
       "      <td>Negative</td>\n",
       "      <td>26</td>\n",
       "      <td>[searched, way, hour, taxi, one, responded, wa...</td>\n",
       "    </tr>\n",
       "    <tr>\n",
       "      <th>391757</th>\n",
       "      <td>Avoid at all costs. 4 mile trip, quoted a mini...</td>\n",
       "      <td>1</td>\n",
       "      <td>0.00000</td>\n",
       "      <td>10.12.19</td>\n",
       "      <td>2021-12-31 17:51:00</td>\n",
       "      <td>10.12.19</td>\n",
       "      <td>gett_taxi</td>\n",
       "      <td>Car Ride</td>\n",
       "      <td>0.056638</td>\n",
       "      <td>Negative</td>\n",
       "      <td>38</td>\n",
       "      <td>[avoid, cost, mile, trip, quoted, minimum, exp...</td>\n",
       "    </tr>\n",
       "    <tr>\n",
       "      <th>391074</th>\n",
       "      <td>This app - and the service behind - fails in a...</td>\n",
       "      <td>1</td>\n",
       "      <td>0.01028</td>\n",
       "      <td>10.21.67</td>\n",
       "      <td>2022-12-31 17:24:00</td>\n",
       "      <td>10.21.67</td>\n",
       "      <td>gett_taxi</td>\n",
       "      <td>Car Ride</td>\n",
       "      <td>0.115355</td>\n",
       "      <td>Negative</td>\n",
       "      <td>87</td>\n",
       "      <td>[app, service, behind, fails, spectacular, man...</td>\n",
       "    </tr>\n",
       "    <tr>\n",
       "      <th>391073</th>\n",
       "      <td>Thank you !</td>\n",
       "      <td>5</td>\n",
       "      <td>0.00000</td>\n",
       "      <td>10.21.67</td>\n",
       "      <td>2022-12-31 17:49:00</td>\n",
       "      <td>10.21.67</td>\n",
       "      <td>gett_taxi</td>\n",
       "      <td>Car Ride</td>\n",
       "      <td>0.002598</td>\n",
       "      <td>Positive</td>\n",
       "      <td>3</td>\n",
       "      <td>[thank]</td>\n",
       "    </tr>\n",
       "  </tbody>\n",
       "</table>\n",
       "</div>"
      ],
      "text/plain": [
       "                                                  content  score  \\\n",
       "391759                                      Good service       5   \n",
       "391758  Searched for way over a hour for a taxi, only ...      1   \n",
       "391757  Avoid at all costs. 4 mile trip, quoted a mini...      1   \n",
       "391074  This app - and the service behind - fails in a...      1   \n",
       "391073                                        Thank you !      5   \n",
       "\n",
       "        thumbsUpCount reviewCreatedVersion                  at appVersion  \\\n",
       "391759        0.00000             10.12.19 2021-12-31 09:21:00   10.12.19   \n",
       "391758        0.00000             10.12.19 2021-12-31 16:17:00   10.12.19   \n",
       "391757        0.00000             10.12.19 2021-12-31 17:51:00   10.12.19   \n",
       "391074        0.01028             10.21.67 2022-12-31 17:24:00   10.21.67   \n",
       "391073        0.00000             10.21.67 2022-12-31 17:49:00   10.21.67   \n",
       "\n",
       "          AppName App Domain  ReviewCharLength  category  word_count  \\\n",
       "391759  gett_taxi   Car Ride          0.003118  Positive           2   \n",
       "391758  gett_taxi   Car Ride          0.032216  Negative          26   \n",
       "391757  gett_taxi   Car Ride          0.056638  Negative          38   \n",
       "391074  gett_taxi   Car Ride          0.115355  Negative          87   \n",
       "391073  gett_taxi   Car Ride          0.002598  Positive           3   \n",
       "\n",
       "                                        processed_content  \n",
       "391759                                    [good, service]  \n",
       "391758  [searched, way, hour, taxi, one, responded, wa...  \n",
       "391757  [avoid, cost, mile, trip, quoted, minimum, exp...  \n",
       "391074  [app, service, behind, fails, spectacular, man...  \n",
       "391073                                            [thank]  "
      ]
     },
     "execution_count": 70,
     "metadata": {},
     "output_type": "execute_result"
    }
   ],
   "source": [
    "reduced_df.tail()"
   ]
  },
  {
   "cell_type": "code",
   "execution_count": 76,
   "metadata": {},
   "outputs": [
    {
     "data": {
      "text/plain": [
       "(905496, 12)"
      ]
     },
     "execution_count": 76,
     "metadata": {},
     "output_type": "execute_result"
    }
   ],
   "source": [
    "reduced_df.shape"
   ]
  },
  {
   "cell_type": "markdown",
   "metadata": {
    "id": "GQQUxbBghHhS"
   },
   "source": [
    "#After Data cleaning:Descriptive Statistics"
   ]
  },
  {
   "cell_type": "markdown",
   "metadata": {
    "id": "9n3EI6Zpherv"
   },
   "source": [
    "# EDA :Covariance Matrix"
   ]
  },
  {
   "cell_type": "code",
   "execution_count": 81,
   "metadata": {
    "id": "E91OvNQEhcXL"
   },
   "outputs": [
    {
     "name": "stderr",
     "output_type": "stream",
     "text": [
      "/var/folders/3g/gl479mb92c51rp_cngrzr_f40000gn/T/ipykernel_5249/1723713874.py:9: FutureWarning: The default value of numeric_only in DataFrame.corr is deprecated. In a future version, it will default to False. Select only valid columns or specify the value of numeric_only to silence this warning.\n",
      "  correlation_matrix = reduced_df.corr()\n"
     ]
    },
    {
     "data": {
      "image/png": "[encoded data removed]",
      "text/plain": [
       "<Figure size 1000x800 with 2 Axes>"
      ]
     },
     "metadata": {},
     "output_type": "display_data"
    }
   ],
   "source": [
    "import pandas as pd\n",
    "import seaborn as sns\n",
    "import matplotlib.pyplot as plt\n",
    "\n",
    "# Assuming df is your DataFrame\n",
    "# For example, df = pd.read_csv('your_dataset.csv')\n",
    "\n",
    "# Calculate the correlation matrix\n",
    "correlation_matrix = reduced_df.corr()\n",
    "\n",
    "# Set up the matplotlib figure\n",
    "plt.figure(figsize=(10, 8))\n",
    "\n",
    "# Create a heatmap using Seaborn\n",
    "sns.heatmap(correlation_matrix, annot=True, cmap=\"coolwarm\", fmt=\".2f\", linewidths=0.5)\n",
    "\n",
    "# Display the heatmap\n",
    "plt.title(\"Correlation Heatmap\")\n",
    "plt.show()\n"
   ]
  },
  {
   "cell_type": "code",
   "execution_count": 82,
   "metadata": {},
   "outputs": [
    {
     "name": "stdout",
     "output_type": "stream",
     "text": [
      "Total Vocabulary Size: 78907\n"
     ]
    }
   ],
   "source": [
    "#calculating vocab size to create word corpus\n",
    "from nltk.corpus import stopwords\n",
    "from nltk.stem.porter import PorterStemmer\n",
    "import re\n",
    "\n",
    "# Define the tweet processing function\n",
    "def tweet_to_words(tweet):\n",
    "    text = tweet.lower()\n",
    "    text = re.sub(r\"[^a-zA-Z0-9]\", \" \", text)\n",
    "    words = text.split()\n",
    "    words = [w for w in words if w not in stopwords.words(\"english\")]\n",
    "    words = [PorterStemmer().stem(w) for w in words]\n",
    "    return words\n",
    "\n",
    "# Process all tweets and create a list of all words\n",
    "all_words = []\n",
    "for tweet in reduced_df['content']:\n",
    "    if isinstance(tweet, str):\n",
    "        all_words.extend(tweet_to_words(tweet))\n",
    "\n",
    "# Determine the vocabulary size\n",
    "vocabulary_size = len(set(all_words))\n",
    "print(\"Total Vocabulary Size:\", vocabulary_size)\n"
   ]
  },
  {
   "cell_type": "markdown",
   "metadata": {},
   "source": [
    "## Performing topic modeling using LDA"
   ]
  },
  {
   "cell_type": "code",
   "execution_count": 84,
   "metadata": {},
   "outputs": [
    {
     "name": "stdout",
     "output_type": "stream",
     "text": [
      "{'Topic 1:': ['love', 'app', 'nice', 'excellent', 'quick', 'convenient', 'easy', 'time', 'super', 'use'], 'Topic 2:': ['app', 'awesome', 'need', 'update', 'area', 'location', 'work', 'working', 'open', 'map'], 'Topic 3:': ['service', 'customer', 'helpful', 'user', 'friendly', 'app', 'bad', 'issue', 'worst', 'perfect'], 'Topic 4:': ['easy', 'use', 'app', 'price', 'work', 'useful', 'simple', 'ok', 'search', 'book'], 'Topic 5:': ['great', 'app', 'fast', 'service', 'amazing', 'deal', 'experience', 'price', 'work', 'place'], 'Topic 6:': ['good', 'app', 'best', 'like', 'far', 'price', 'apps', 'deal', 'really', 'thank'], 'Topic 7:': ['driver', 'ride', 'lyft', 'time', 'uber', 'minute', 'app', 'car', 'wait', 'better'], 'Topic 8:': ['app', 'flight', 'ca', 'card', 'time', 'phone', 'account', 'number', 'use', 'email'], 'Topic 9:': ['hotel', 'booking', 'room', 'money', 'airbnb', 'agoda', 'book', 'stay', 'app', 'booked'], 'Topic 10:': ['order', 'food', 'delivery', 'time', 'restaurant', 'service', 'app', 'driver', 'grubhub', 'fee']}\n"
     ]
    }
   ],
   "source": [
    "import pandas as pd\n",
    "from collections.abc import Iterable  # For checking if the value is an iterable\n",
    "from sklearn.feature_extraction.text import CountVectorizer\n",
    "from sklearn.decomposition import LatentDirichletAllocation\n",
    "\n",
    "# Function to join tokens and handle non-iterable values\n",
    "def join_tokens(tokens):\n",
    "    if isinstance(tokens, Iterable) and not isinstance(tokens, str):  # Check if tokens is an iterable but not a string\n",
    "        return ' '.join(tokens)\n",
    "    return ''  # Replace non-iterable values with an empty string\n",
    "\n",
    "# Apply the function to your DataFrame\n",
    "reduced_df['processed_text'] = reduced_df['processed_content'].apply(join_tokens)\n",
    "\n",
    "# Example of further code\n",
    "count_vectorizer = CountVectorizer(max_df=0.95, min_df=2, stop_words='english')\n",
    "dtm = count_vectorizer.fit_transform(reduced_df['processed_text'])\n",
    "\n",
    "num_topics = 10\n",
    "lda = LatentDirichletAllocation(n_components=num_topics, random_state=0)\n",
    "lda.fit(dtm)\n",
    "\n",
    "# Function to display the top words in each topic\n",
    "def display_topics(model, feature_names, no_top_words):\n",
    "    topic_dict = {}\n",
    "    for topic_idx, topic in enumerate(model.components_):\n",
    "        topic_dict[\"Topic %d:\" % (topic_idx + 1)] = [feature_names[i] for i in topic.argsort()[:-no_top_words - 1:-1]]\n",
    "    return topic_dict\n",
    "\n",
    "# Displaying the top words for each topic\n",
    "no_top_words = 10\n",
    "topic_words = display_topics(lda, count_vectorizer.get_feature_names_out(), no_top_words)\n",
    "print(topic_words)\n"
   ]
  },
  {
   "cell_type": "code",
   "execution_count": 85,
   "metadata": {},
   "outputs": [],
   "source": [
    "# Assuming `dtm` is the document-term matrix for the comments\n",
    "# and `lda` is the trained LDA model\n",
    "topic_distributions = lda.transform(dtm)\n",
    "\n",
    "# The indices of topics of interest\n",
    "topics_of_interest = [7, 4, 8, 1]  # these indices are one less than the topic numbers because of 0-indexing\n",
    "\n",
    "# Filter the topic distributions to only include the four topics of interest\n",
    "filtered_distributions = topic_distributions[:, topics_of_interest]\n",
    "\n",
    "# Get the index of the topic with the max probability for each comment\n",
    "# The index will correspond to the position in topics_of_interest\n",
    "topic_indices = filtered_distributions.argmax(axis=1)\n",
    "\n",
    "# Map the index to the class names\n",
    "class_names = {0: \"app functionality\", 1: \"customer service\", 2: \"user friendly\", 3: \"payment experience\"}\n",
    "\n",
    "# Use the mapping to translate indices to class names\n",
    "reduced_df['topic_label'] = [class_names[index] for index in topic_indices]\n",
    "\n",
    "# Now reduced_df will have a new column 'topic_label' with class names as labels\n"
   ]
  },
  {
   "cell_type": "code",
   "execution_count": 86,
   "metadata": {},
   "outputs": [
    {
     "name": "stdout",
     "output_type": "stream",
     "text": [
      "                                                  content         topic_label\n",
      "0                     Excellent app so easy to book a cab  payment experience\n",
      "1                           Easy to use and great service    customer service\n",
      "2                                                  Great!    customer service\n",
      "3       This app is awesome for $10 anywhere in Manhat...   app functionality\n",
      "4                                            Good survice    customer service\n",
      "...                                                   ...                 ...\n",
      "905491                                      Good service     customer service\n",
      "905492  Searched for way over a hour for a taxi, only ...  payment experience\n",
      "905493  Avoid at all costs. 4 mile trip, quoted a mini...       user friendly\n",
      "905494  This app - and the service behind - fails in a...   app functionality\n",
      "905495                                        Thank you !    customer service\n",
      "\n",
      "[905496 rows x 2 columns]\n"
     ]
    }
   ],
   "source": [
    "print(reduced_df[['content', 'topic_label']])"
   ]
  },
  {
   "cell_type": "code",
   "execution_count": 83,
   "metadata": {},
   "outputs": [],
   "source": [
    "#reduced_df.to_csv('/Users/bhavikpatel/Desktop/poject MSDA/Data 270/Individual paper/BERT_clean_file.csv', index = False)"
   ]
  },
  {
   "cell_type": "markdown",
   "metadata": {},
   "source": [
    "## WORD2VEC"
   ]
  },
  {
   "cell_type": "code",
   "execution_count": 88,
   "metadata": {},
   "outputs": [
    {
     "name": "stderr",
     "output_type": "stream",
     "text": [
      "[nltk_data] Downloading package stopwords to\n",
      "[nltk_data]     /Users/bhavikpatel/nltk_data...\n",
      "[nltk_data]   Package stopwords is already up-to-date!\n"
     ]
    }
   ],
   "source": [
    "# creating word2vec nad spling the data\n",
    "import re\n",
    "import numpy as np\n",
    "import pandas as pd\n",
    "from sklearn.model_selection import train_test_split\n",
    "from sklearn.preprocessing import LabelEncoder\n",
    "from gensim.models import Word2Vec\n",
    "import nltk\n",
    "from nltk.corpus import stopwords\n",
    "from nltk.stem.porter import PorterStemmer\n",
    "\n",
    "# Ensure necessary NLTK data is downloaded\n",
    "nltk.download('stopwords')\n",
    "\n",
    "# Initialize stopwords and stemmer\n",
    "stop_words = set(stopwords.words('english'))\n",
    "stemmer = PorterStemmer()\n",
    "\n",
    "def vectorize_text(word_list, model):\n",
    "    # Remove out-of-vocabulary words\n",
    "    word_list = [word for word in word_list if word in model.wv.key_to_index]\n",
    "    \n",
    "    # If no words are left in the sentence after filtering, return a zero vector\n",
    "    if len(word_list) == 0:\n",
    "        return np.zeros(model.vector_size)\n",
    "    \n",
    "    # Compute the average Word2Vec for the remaining words\n",
    "    word_vectors = [model.wv[word] for word in word_list]\n",
    "    vectorized_text = np.mean(word_vectors, axis=0)\n",
    "    return vectorized_text\n",
    "\n",
    "# Fill NaN values with an empty list in 'processed_content' column\n",
    "reduced_df['processed_content'] = reduced_df['processed_content'].apply(lambda x: [] if isinstance(x, float) else x)\n",
    "\n",
    "# Train the Word2Vec model\n",
    "word2vec_model = Word2Vec(sentences=reduced_df['processed_content'], vector_size=100, window=5, min_count=1, workers=4)\n",
    "\n",
    "# Apply the vectorization function to each row in the DataFrame\n",
    "X = np.array([vectorize_text(tokens, word2vec_model) for tokens in reduced_df['processed_content']])\n",
    "\n",
    "# Label encoding for the target variable\n",
    "label_encoder = LabelEncoder()\n",
    "y = label_encoder.fit_transform(reduced_df['category'])\n",
    "\n",
    "# Splitting the data into train, validation, and test sets with stratification\n",
    "X_train, X_temp, y_train, y_temp = train_test_split(X, y, test_size=0.2, stratify=y, random_state=42)\n",
    "X_val, X_test, y_val, y_test = train_test_split(X_temp, y_temp, test_size=0.5, stratify=y_temp, random_state=42)\n",
    "\n",
    "# Now, X_train, X_val, X_test, y_train, y_val, and y_test are ready for further use\n"
   ]
  },
  {
   "cell_type": "code",
   "execution_count": 538,
   "metadata": {},
   "outputs": [],
   "source": [
    "#reduced_df.to_csv('/Users/bhavikpatel/Desktop/poject MSDA/Data 270/processed_merged_data.csv', index = False)"
   ]
  },
  {
   "cell_type": "code",
   "execution_count": 90,
   "metadata": {},
   "outputs": [
    {
     "name": "stdout",
     "output_type": "stream",
     "text": [
      "Training Set Shape (X_train, y_train): (724396, 100) (724396,)\n",
      "Validation Set Shape (X_val, y_val): (90550, 100) (90550,)\n",
      "Test Set Shape (X_test, y_test): (90550, 100) (90550,)\n"
     ]
    }
   ],
   "source": [
    "# Print the shapes of the datasets\n",
    "print(\"Training Set Shape (X_train, y_train):\", X_train.shape, y_train.shape)\n",
    "print(\"Validation Set Shape (X_val, y_val):\", X_val.shape, y_val.shape)\n",
    "print(\"Test Set Shape (X_test, y_test):\", X_test.shape, y_test.shape)\n",
    "\n",
    "\n"
   ]
  },
  {
   "cell_type": "code",
   "execution_count": 92,
   "metadata": {},
   "outputs": [
    {
     "name": "stdout",
     "output_type": "stream",
     "text": [
      "First few rows of the DataFrame with Word2Vec vectors:\n"
     ]
    },
    {
     "data": {
      "text/html": [
       "<div>\n",
       "<style scoped>\n",
       "    .dataframe tbody tr th:only-of-type {\n",
       "        vertical-align: middle;\n",
       "    }\n",
       "\n",
       "    .dataframe tbody tr th {\n",
       "        vertical-align: top;\n",
       "    }\n",
       "\n",
       "    .dataframe thead th {\n",
       "        text-align: right;\n",
       "    }\n",
       "</style>\n",
       "<table border=\"1\" class=\"dataframe\">\n",
       "  <thead>\n",
       "    <tr style=\"text-align: right;\">\n",
       "      <th></th>\n",
       "      <th>vector_0</th>\n",
       "      <th>vector_1</th>\n",
       "      <th>vector_2</th>\n",
       "      <th>vector_3</th>\n",
       "      <th>vector_4</th>\n",
       "      <th>vector_5</th>\n",
       "      <th>vector_6</th>\n",
       "      <th>vector_7</th>\n",
       "      <th>vector_8</th>\n",
       "      <th>vector_9</th>\n",
       "      <th>...</th>\n",
       "      <th>vector_90</th>\n",
       "      <th>vector_91</th>\n",
       "      <th>vector_92</th>\n",
       "      <th>vector_93</th>\n",
       "      <th>vector_94</th>\n",
       "      <th>vector_95</th>\n",
       "      <th>vector_96</th>\n",
       "      <th>vector_97</th>\n",
       "      <th>vector_98</th>\n",
       "      <th>vector_99</th>\n",
       "    </tr>\n",
       "  </thead>\n",
       "  <tbody>\n",
       "    <tr>\n",
       "      <th>0</th>\n",
       "      <td>0.222018</td>\n",
       "      <td>-0.180198</td>\n",
       "      <td>0.091617</td>\n",
       "      <td>-1.029514</td>\n",
       "      <td>1.535181</td>\n",
       "      <td>-0.158921</td>\n",
       "      <td>0.764275</td>\n",
       "      <td>-0.765605</td>\n",
       "      <td>-0.509095</td>\n",
       "      <td>1.264831</td>\n",
       "      <td>...</td>\n",
       "      <td>-0.445335</td>\n",
       "      <td>0.084566</td>\n",
       "      <td>0.052298</td>\n",
       "      <td>0.009216</td>\n",
       "      <td>-0.272413</td>\n",
       "      <td>0.297370</td>\n",
       "      <td>0.038433</td>\n",
       "      <td>-0.513589</td>\n",
       "      <td>-0.279384</td>\n",
       "      <td>-1.234981</td>\n",
       "    </tr>\n",
       "    <tr>\n",
       "      <th>1</th>\n",
       "      <td>0.167853</td>\n",
       "      <td>-0.748925</td>\n",
       "      <td>-0.381575</td>\n",
       "      <td>0.252422</td>\n",
       "      <td>1.144670</td>\n",
       "      <td>1.630700</td>\n",
       "      <td>1.167017</td>\n",
       "      <td>-0.039501</td>\n",
       "      <td>-0.815056</td>\n",
       "      <td>0.993245</td>\n",
       "      <td>...</td>\n",
       "      <td>-0.653135</td>\n",
       "      <td>-0.545822</td>\n",
       "      <td>-0.015117</td>\n",
       "      <td>-0.961827</td>\n",
       "      <td>-0.428745</td>\n",
       "      <td>-0.745232</td>\n",
       "      <td>0.277392</td>\n",
       "      <td>-0.488318</td>\n",
       "      <td>-0.295106</td>\n",
       "      <td>-1.131180</td>\n",
       "    </tr>\n",
       "    <tr>\n",
       "      <th>2</th>\n",
       "      <td>-3.170162</td>\n",
       "      <td>-0.317378</td>\n",
       "      <td>-0.705007</td>\n",
       "      <td>0.551786</td>\n",
       "      <td>2.084863</td>\n",
       "      <td>0.994790</td>\n",
       "      <td>1.076352</td>\n",
       "      <td>-1.094148</td>\n",
       "      <td>-0.990490</td>\n",
       "      <td>2.034750</td>\n",
       "      <td>...</td>\n",
       "      <td>-1.544755</td>\n",
       "      <td>-0.222574</td>\n",
       "      <td>0.178804</td>\n",
       "      <td>-2.314657</td>\n",
       "      <td>-1.045150</td>\n",
       "      <td>-1.071750</td>\n",
       "      <td>-1.303008</td>\n",
       "      <td>-0.868981</td>\n",
       "      <td>-0.981891</td>\n",
       "      <td>-0.539820</td>\n",
       "    </tr>\n",
       "    <tr>\n",
       "      <th>3</th>\n",
       "      <td>-0.182017</td>\n",
       "      <td>-0.441685</td>\n",
       "      <td>-0.020743</td>\n",
       "      <td>0.445244</td>\n",
       "      <td>-0.123491</td>\n",
       "      <td>0.635314</td>\n",
       "      <td>-0.200260</td>\n",
       "      <td>-0.796060</td>\n",
       "      <td>-0.609701</td>\n",
       "      <td>0.063891</td>\n",
       "      <td>...</td>\n",
       "      <td>0.007321</td>\n",
       "      <td>0.198365</td>\n",
       "      <td>-0.162174</td>\n",
       "      <td>0.243724</td>\n",
       "      <td>0.240591</td>\n",
       "      <td>0.104258</td>\n",
       "      <td>1.000801</td>\n",
       "      <td>-1.322840</td>\n",
       "      <td>-0.046155</td>\n",
       "      <td>-0.271489</td>\n",
       "    </tr>\n",
       "    <tr>\n",
       "      <th>4</th>\n",
       "      <td>-1.120789</td>\n",
       "      <td>0.069267</td>\n",
       "      <td>-0.261791</td>\n",
       "      <td>0.498158</td>\n",
       "      <td>0.658119</td>\n",
       "      <td>0.319741</td>\n",
       "      <td>0.631131</td>\n",
       "      <td>-0.096209</td>\n",
       "      <td>-0.166467</td>\n",
       "      <td>0.472273</td>\n",
       "      <td>...</td>\n",
       "      <td>-0.106256</td>\n",
       "      <td>-0.155436</td>\n",
       "      <td>0.237525</td>\n",
       "      <td>-1.082481</td>\n",
       "      <td>-0.445964</td>\n",
       "      <td>-0.358755</td>\n",
       "      <td>-0.567719</td>\n",
       "      <td>-0.412559</td>\n",
       "      <td>-0.806210</td>\n",
       "      <td>-0.033734</td>\n",
       "    </tr>\n",
       "  </tbody>\n",
       "</table>\n",
       "<p>5 rows × 100 columns</p>\n",
       "</div>"
      ],
      "text/plain": [
       "   vector_0  vector_1  vector_2  vector_3  vector_4  vector_5  vector_6  \\\n",
       "0  0.222018 -0.180198  0.091617 -1.029514  1.535181 -0.158921  0.764275   \n",
       "1  0.167853 -0.748925 -0.381575  0.252422  1.144670  1.630700  1.167017   \n",
       "2 -3.170162 -0.317378 -0.705007  0.551786  2.084863  0.994790  1.076352   \n",
       "3 -0.182017 -0.441685 -0.020743  0.445244 -0.123491  0.635314 -0.200260   \n",
       "4 -1.120789  0.069267 -0.261791  0.498158  0.658119  0.319741  0.631131   \n",
       "\n",
       "   vector_7  vector_8  vector_9  ...  vector_90  vector_91  vector_92  \\\n",
       "0 -0.765605 -0.509095  1.264831  ...  -0.445335   0.084566   0.052298   \n",
       "1 -0.039501 -0.815056  0.993245  ...  -0.653135  -0.545822  -0.015117   \n",
       "2 -1.094148 -0.990490  2.034750  ...  -1.544755  -0.222574   0.178804   \n",
       "3 -0.796060 -0.609701  0.063891  ...   0.007321   0.198365  -0.162174   \n",
       "4 -0.096209 -0.166467  0.472273  ...  -0.106256  -0.155436   0.237525   \n",
       "\n",
       "   vector_93  vector_94  vector_95  vector_96  vector_97  vector_98  vector_99  \n",
       "0   0.009216  -0.272413   0.297370   0.038433  -0.513589  -0.279384  -1.234981  \n",
       "1  -0.961827  -0.428745  -0.745232   0.277392  -0.488318  -0.295106  -1.131180  \n",
       "2  -2.314657  -1.045150  -1.071750  -1.303008  -0.868981  -0.981891  -0.539820  \n",
       "3   0.243724   0.240591   0.104258   1.000801  -1.322840  -0.046155  -0.271489  \n",
       "4  -1.082481  -0.445964  -0.358755  -0.567719  -0.412559  -0.806210  -0.033734  \n",
       "\n",
       "[5 rows x 100 columns]"
      ]
     },
     "execution_count": 92,
     "metadata": {},
     "output_type": "execute_result"
    }
   ],
   "source": [
    "#displaying word2vec result\n",
    "# Create a new DataFrame with the vector data\n",
    "df_vectors = pd.DataFrame(X, columns=[f'vector_{i}' for i in range(X.shape[1])])\n",
    "\n",
    "# Ensure that the length of reduced_df matches the length of X\n",
    "if len(reduced_df) == len(X):\n",
    "    for i in range(X.shape[1]):\n",
    "        reduced_df[f'vector_{i}'] = X[:, i]\n",
    "\n",
    "# Print the first few rows\n",
    "print(\"First few rows of the DataFrame with Word2Vec vectors:\")\n",
    "df_vectors.head()\n"
   ]
  },
  {
   "cell_type": "code",
   "execution_count": 99,
   "metadata": {},
   "outputs": [
    {
     "name": "stdout",
     "output_type": "stream",
     "text": [
      "Before Tokenization & Padding \n",
      " Best\n",
      "After Tokenization & Padding \n",
      " [61  0  0  0  0  0  0  0  0  0  0  0  0  0  0  0  0  0  0  0  0  0  0  0\n",
      "  0  0  0  0  0  0  0  0  0  0  0  0  0  0  0  0  0  0  0  0  0  0  0  0\n",
      "  0  0  0  0  0  0  0  0  0  0  0  0  0  0  0  0  0  0  0  0  0  0  0  0\n",
      "  0  0  0  0  0  0  0  0  0  0  0  0  0  0  0  0  0  0  0  0  0  0  0  0\n",
      "  0  0  0  0  0  0  0  0  0  0  0  0  0  0  0  0  0  0  0  0  0  0  0  0\n",
      "  0  0  0  0  0  0  0  0  0  0  0  0  0  0  0  0  0  0  0  0  0  0  0  0\n",
      "  0  0  0  0  0  0  0  0  0  0  0  0  0  0  0  0  0  0  0  0  0  0  0  0\n",
      "  0  0  0  0  0  0  0  0  0  0  0  0  0  0  0  0  0  0  0  0  0  0  0  0\n",
      "  0  0  0  0  0  0  0  0  0  0  0  0  0  0  0  0  0  0  0  0  0  0  0  0\n",
      "  0  0  0  0  0  0  0  0  0  0  0  0  0  0  0  0  0  0  0  0  0  0  0  0\n",
      "  0  0  0  0  0  0  0  0  0  0]\n"
     ]
    }
   ],
   "source": [
    "#standardizing input length of the sentece in model\n",
    "\n",
    "from keras.preprocessing.text import Tokenizer\n",
    "from keras.preprocessing.sequence import pad_sequences\n",
    "\n",
    "max_words = 78000\n",
    "max_len=250\n",
    "\n",
    "def tokenize_pad_sequences(text):\n",
    "    '''\n",
    "    This function tokenize the input text into sequnences of intergers and then\n",
    "    pad each sequence to the same length\n",
    "    '''\n",
    "    # Text tokenization\n",
    "    tokenizer = Tokenizer(num_words=max_words, lower=True, split=' ')\n",
    "    tokenizer.fit_on_texts(text)\n",
    "    # Transforms text to a sequence of integers\n",
    "    X = tokenizer.texts_to_sequences(text)\n",
    "    # Pad sequences to the same length\n",
    "    X = pad_sequences(X, padding='post', maxlen=max_len)\n",
    "    # Come back sequences\n",
    "    return X, tokenizer\n",
    "\n",
    "print('Before Tokenization & Padding \\n', reduced_df['content'][5])\n",
    "X, tokenizer = tokenize_pad_sequences(reduced_df['content'])\n",
    "print('After Tokenization & Padding \\n', X[5])"
   ]
  },
  {
   "cell_type": "code",
   "execution_count": 100,
   "metadata": {},
   "outputs": [],
   "source": [
    "from imblearn.over_sampling import SMOTE"
   ]
  },
  {
   "cell_type": "code",
   "execution_count": 101,
   "metadata": {},
   "outputs": [
    {
     "name": "stdout",
     "output_type": "stream",
     "text": [
      "Original Training Set Shape: (724396, 100) (724396,)\n",
      "SMOTE Resampled Training Set Shape: (1542261, 100) (1542261,)\n"
     ]
    }
   ],
   "source": [
    "#performing SMOTE analysis\n",
    "# Assuming X_train, y_train are your training data\n",
    "smote = SMOTE(random_state=42)\n",
    "X_train_smote, y_train_smote = smote.fit_resample(X_train, y_train)\n",
    "\n",
    "# Now, X_train_smote and y_train_smote are your new training sets with balanced classes\n",
    "\n",
    "# Displaying the shape of the datasets\n",
    "print(\"Original Training Set Shape:\", X_train.shape, y_train.shape)\n",
    "print(\"SMOTE Resampled Training Set Shape:\", X_train_smote.shape, y_train_smote.shape)\n"
   ]
  },
  {
   "cell_type": "code",
   "execution_count": 102,
   "metadata": {},
   "outputs": [
    {
     "name": "stdout",
     "output_type": "stream",
     "text": [
      "Class distribution in y_train_smote: {0: 514087, 1: 514087, 2: 514087}\n"
     ]
    }
   ],
   "source": [
    "#checking distribution of smote data\n",
    "import numpy as np\n",
    "\n",
    "unique, counts = np.unique(y_train_smote, return_counts=True)\n",
    "class_distribution = dict(zip(unique, counts))\n",
    "print(\"Class distribution in y_train_smote:\", class_distribution)\n"
   ]
  },
  {
   "cell_type": "code",
   "execution_count": null,
   "metadata": {},
   "outputs": [],
   "source": []
  }
 ],
 "metadata": {
  "colab": {
   "authorship_tag": "ABX9TyPOhYqBUvuCr4pz9LfJgJ9V",
   "provenance": []
  },
  "kernelspec": {
   "display_name": "Python 3 (ipykernel)",
   "language": "python",
   "name": "python3"
  },
  "language_info": {
   "codemirror_mode": {
    "name": "ipython",
    "version": 3
   },
   "file_extension": ".py",
   "mimetype": "text/x-python",
   "name": "python",
   "nbconvert_exporter": "python",
   "pygments_lexer": "ipython3",
   "version": "3.11.4"
  }
 },
 "nbformat": 4,
 "nbformat_minor": 1
}
