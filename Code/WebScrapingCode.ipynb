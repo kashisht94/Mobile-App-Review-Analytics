{
 "cells": [
  {
   "cell_type": "code",
   "execution_count": null,
   "id": "6e6a0929",
   "metadata": {},
   "outputs": [],
   "source": [
    "# Installing the Google Play scrapes to perform web scraping\n",
    "pip install google-play-scraper\n",
    "# Importing all the required Python libraries\n",
    "import pandas as pd\n",
    "import numpy as np\n",
    "from google_play_scraper import app, Sort, reviews_all\n",
    "import json,os,uuid\n",
    "# Fetching the reviews from the desired Mobile app on the Google Play Store g_reviews= reviews_all(\n",
    "\"com.priceline.android.negotiator\",\n",
    "sleep_milliseconds=0,\n",
    "lang=\"en\",\n",
    "country=\"us\",\n",
    "sort=Sort.NEWEST,)\n",
    "# Creating a dataframe for the collected Review data g_df=pd.DataFrame(g_reviews)\n",
    "# Displaying the details of the created Dataframe g_df\n",
    "# Converting the dataframe to a CSV File g_df.to_csv(\"Filename.csv\")"
   ]
  }
 ],
 "metadata": {
  "kernelspec": {
   "display_name": "Python 3 (ipykernel)",
   "language": "python",
   "name": "python3"
  },
  "language_info": {
   "codemirror_mode": {
    "name": "ipython",
    "version": 3
   },
   "file_extension": ".py",
   "mimetype": "text/x-python",
   "name": "python",
   "nbconvert_exporter": "python",
   "pygments_lexer": "ipython3",
   "version": "3.11.4"
  }
 },
 "nbformat": 4,
 "nbformat_minor": 5
}
