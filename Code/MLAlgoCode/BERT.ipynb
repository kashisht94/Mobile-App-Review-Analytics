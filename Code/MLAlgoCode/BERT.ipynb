{
 "cells": [
  {
   "cell_type": "markdown",
   "id": "26504db6",
   "metadata": {},
   "source": [
    "## Importing library "
   ]
  },
  {
   "cell_type": "code",
   "execution_count": null,
   "id": "d3e7ec47",
   "metadata": {},
   "outputs": [],
   "source": [
    "import torch\n",
    "import numpy as np\n",
    "import matplotlib.pyplot as plt\n",
    "import seaborn as sns\n",
    "from torch.utils.data import DataLoader, TensorDataset, random_split\n",
    "from transformers import BertTokenizer, BertForSequenceClassification, AdamW\n",
    "from sklearn.preprocessing import LabelEncoder\n",
    "from sklearn.metrics import accuracy_score, confusion_matrix, precision_recall_fscore_support\n",
    "import pandas as pd\n",
    "from tqdm.notebook import tqdm\n",
    "import matplotlib.pyplot as plt\n",
    "import seaborn as sns\n",
    "from sklearn.utils.class_weight import compute_class_weight\n",
    "from sklearn.model_selection import train_test_split\n",
    "from torch.cuda.amp import GradScaler, autocast\n",
    "print(\"Libraries and functions imported.\")\n"
   ]
  },
  {
   "cell_type": "markdown",
   "id": "fb112dbe",
   "metadata": {},
   "source": [
    "## Function to preprocess text for BERT"
   ]
  },
  {
   "cell_type": "code",
   "execution_count": null,
   "id": "fa319c8b",
   "metadata": {},
   "outputs": [],
   "source": [
    "def preprocess_for_bert(texts, tokenizer, max_len=128):\n",
    "    encoded_batch = tokenizer.batch_encode_plus(\n",
    "        texts,\n",
    "        add_special_tokens=True,\n",
    "        padding='max_length',\n",
    "        truncation=True,\n",
    "        max_length=max_len,\n",
    "        return_attention_mask=True,\n",
    "        return_tensors='pt'\n",
    "    )\n",
    "    return encoded_batch['input_ids'], encoded_batch['attention_mask']\n",
    "\n",
    "# Load the BERT tokenizer\n",
    "print(\"Loading BERT tokenizer...\")\n",
    "tokenizer = BertTokenizer.from_pretrained('bert-base-uncased')\n",
    "\n",
    "# Loading and preprocessing dataset\n",
    "print(\"Start: Loading and preprocessing dataset...\")\n",
    "df = pd.read_csv('clean_file.csv').sample(n=100000)  # this file is loaded after applying data cleaning and data tranformation step that are in CNN-BiLSTM.ipynb file.\n",
    "df['content'] = df['content'].astype(str)\n",
    "\n",
    "label_encoder = LabelEncoder()\n",
    "labels = label_encoder.fit_transform(df['category'])\n",
    "#input_ids, attention_masks = preprocess_for_bert(df['content'].tolist(), tokenizer)\n",
    "\n",
    "# Select a sample text from the dataset\n",
    "sample_text = df['content'].iloc[1]\n",
    "\n",
    "# Step 1: Original Text\n",
    "print(\"Original Text:\")\n",
    "print(sample_text)\n",
    "\n",
    "# Step 2: Tokenization\n",
    "tokens = tokenizer.tokenize(sample_text)\n",
    "print(\"\\nTokens:\")\n",
    "print(tokens)\n",
    "\n",
    "# Step 3: Convert Tokens to IDs\n",
    "token_ids = tokenizer.convert_tokens_to_ids(tokens)\n",
    "print(\"\\nToken IDs:\")\n",
    "print(token_ids)\n",
    "\n",
    "# Step 4: Add Special Tokens and Create Attention Mask\n",
    "# BERT requires special tokens at the start and end of each sentence\n",
    "input_ids = tokenizer.encode(sample_text, add_special_tokens=True, max_length=128, truncation=True)\n",
    "attention_mask = [10] * len(input_ids)\n",
    "print(\"\\nInput IDs with Special Tokens:\")\n",
    "print(input_ids)\n",
    "print(\"\\nAttention Mask:\")\n",
    "print(attention_mask)\n",
    "\n",
    "# Step 5: Final Encoded Representation\n",
    "encoded_representation = tokenizer.encode_plus(\n",
    "    sample_text,\n",
    "    add_special_tokens=True,\n",
    "    max_length=128,\n",
    "    padding='max_length',\n",
    "    truncation=True,\n",
    "    return_attention_mask=True\n",
    ")\n",
    "print(\"\\nFinal Encoded Representation:\")\n",
    "print(encoded_representation)\n",
    "\n",
    "\n",
    "# Stratified split\n",
    "train_texts, test_texts, train_labels, test_labels = train_test_split(\n",
    "    df['content'], labels, test_size=0.2, stratify=labels, random_state=42\n",
    ")\n",
    "train_texts, val_texts, train_labels, val_labels = train_test_split(\n",
    "    train_texts, train_labels, test_size=0.125, stratify=train_labels, random_state=42  # 0.125 x 0.8 = 0.1\n",
    ")\n",
    "\n",
    "# Preprocess texts\n",
    "\n",
    "train_input_ids, train_attention_masks = preprocess_for_bert(train_texts.tolist(), tokenizer)\n",
    "val_input_ids, val_attention_masks = preprocess_for_bert(val_texts.tolist(), tokenizer)\n",
    "test_input_ids, test_attention_masks = preprocess_for_bert(test_texts.tolist(), tokenizer)\n",
    "\n",
    "# Create TensorDatasets\n",
    "train_dataset = TensorDataset(train_input_ids, train_attention_masks, torch.tensor(train_labels))\n",
    "val_dataset = TensorDataset(val_input_ids, val_attention_masks, torch.tensor(val_labels))\n",
    "test_dataset = TensorDataset(test_input_ids, test_attention_masks, torch.tensor(test_labels))\n",
    "\n",
    "print(\"End: Dataset loaded and preprocessed.\")\n"
   ]
  },
  {
   "cell_type": "markdown",
   "id": "df7a6dcd",
   "metadata": {},
   "source": [
    "## Checking if GPU available"
   ]
  },
  {
   "cell_type": "code",
   "execution_count": null,
   "id": "1ba2e88f",
   "metadata": {},
   "outputs": [],
   "source": [
    "# Check if a GPU is available and if not, use a CPU, this code is only for windows users. Mac users have to change the model to tensorflow.\n",
    "device = torch.device(\"cuda\" if torch.cuda.is_available() else \"cpu\")\n",
    "print(f\"Using device: {device}\")\n"
   ]
  },
  {
   "cell_type": "markdown",
   "id": "e2adfd55",
   "metadata": {},
   "source": [
    "## Calculating Class Weights for Imbalanced Data"
   ]
  },
  {
   "cell_type": "code",
   "execution_count": null,
   "id": "76381b18",
   "metadata": {},
   "outputs": [],
   "source": [
    "print(\"Start: Calculating class weights...\")\n",
    "class_weights = compute_class_weight('balanced', classes=np.unique(train_labels), y=train_labels)\n",
    "weights = torch.tensor(class_weights, dtype=torch.float).to(device)\n",
    "\n",
    "# Define your loss function with these weights\n",
    "criterion = torch.nn.CrossEntropyLoss(weight=weights)\n",
    "\n",
    "print(\"End: Class weights calculated.\")\n"
   ]
  },
  {
   "cell_type": "markdown",
   "id": "7365ace3",
   "metadata": {},
   "source": [
    "## Efficient Data Loading"
   ]
  },
  {
   "cell_type": "code",
   "execution_count": null,
   "id": "08242180",
   "metadata": {},
   "outputs": [],
   "source": [
    "# Efficient Data Loaders\n",
    "train_loader = DataLoader(train_dataset, shuffle=True, batch_size=16, num_workers=4, pin_memory=True)\n",
    "val_loader = DataLoader(val_dataset, shuffle=False, batch_size=16, num_workers=4, pin_memory=True)\n",
    "test_loader = DataLoader(test_dataset, shuffle=False, batch_size=16, num_workers=4, pin_memory=True)\n"
   ]
  },
  {
   "cell_type": "markdown",
   "id": "d709b7c6",
   "metadata": {},
   "source": [
    "## Training with Gradient Accumulation and Mixed Precision"
   ]
  },
  {
   "cell_type": "code",
   "execution_count": null,
   "id": "f85c7d06",
   "metadata": {},
   "outputs": [],
   "source": [
    "device = torch.device(\"cuda\" if torch.cuda.is_available() else \"cpu\")\n",
    "model = BertForSequenceClassification.from_pretrained('bert-base-uncased', num_labels=3)  \n",
    "model.to(device)\n",
    "optimizer = AdamW(model.parameters(), lr=2e-5, weight_decay=0.01, betas=(0.9, 0.999), eps=1e-9)\n",
    "use_cuda = torch.cuda.is_available()\n",
    "scaler = GradScaler(enabled=use_cuda)\n",
    "epochs = 4  \n",
    "accumulation_steps = 4\n",
    "early_stopping_patience = 3\n",
    "best_val_loss = float('inf')\n",
    "epochs_no_improve = 0\n",
    "\n",
    "train_accuracies = []\n",
    "val_accuracies = []\n",
    "train_losses = []\n",
    "val_losses = []\n",
    "val_true_labels = []\n",
    "val_pred_labels = []\n",
    "\n",
    "for epoch_i in range(epochs):\n",
    "    total_train_loss = 0\n",
    "    total_val_loss = 0\n",
    "    # Training phase with gradient accumulation\n",
    "    model.train()\n",
    "    total_loss, total_correct, total = 0, 0, 0\n",
    "    for step, batch in tqdm(enumerate(train_loader), total=len(train_loader)):\n",
    "        b_input_ids, b_input_mask, b_labels = tuple(t.to(device) for t in batch)\n",
    "        model.zero_grad()        \n",
    "        outputs = model(b_input_ids, token_type_ids=None, attention_mask=b_input_mask, labels=b_labels)\n",
    "        loss = outputs.loss / accumulation_steps\n",
    "        loss.backward()\n",
    "        total_train_loss += loss.item()\n",
    "\n",
    "        if (step + 1) % accumulation_steps == 0:\n",
    "            optimizer.step()\n",
    "            optimizer.zero_grad()\n",
    "\n",
    "        # Calculate training accuracy\n",
    "        logits = outputs.logits\n",
    "        predictions = torch.argmax(logits, dim=1)\n",
    "        total_correct += (predictions == b_labels).sum().item()\n",
    "        total += b_labels.size(0)\n",
    "\n",
    "    train_accuracy = total_correct / total\n",
    "    train_accuracies.append(train_accuracy)\n",
    "    print(f\"Epoch {epoch_i + 1}/{epochs} Training Accuracy: {train_accuracy}\")\n",
    "    avg_train_loss = total_train_loss / len(train_loader)\n",
    "    train_losses.append(avg_train_loss)\n",
    "    print(f\"Epoch {epoch_i + 1}/{epochs} Training Loss: {train_losses}\")\n",
    "\n",
    "    # Validation phase\n",
    "    model.eval()\n",
    "    total_eval_loss, total_correct, total = 0, 0, 0\n",
    "    val_true_labels = []\n",
    "    val_pred_labels = []\n",
    "    #all_preds, all_labels = [], []\n",
    "    for batch in tqdm(val_loader, desc=\"Validating\"):\n",
    "        b_input_ids, b_input_mask, b_labels = tuple(t.to(device) for t in batch)\n",
    "        with torch.no_grad():\n",
    "            outputs = model(b_input_ids, token_type_ids=None, attention_mask=b_input_mask, labels=b_labels)\n",
    "\n",
    "        loss = outputs.loss.item()\n",
    "        total_eval_loss += loss\n",
    "        total_val_loss += outputs.loss.item()\n",
    "\n",
    "        # For accuracy and confusion matrix\n",
    "        logits = outputs.logits\n",
    "        predictions = torch.argmax(logits, dim=1)\n",
    "        total_correct += (predictions == b_labels).sum().item()\n",
    "        total += b_labels.size(0)\n",
    "        # Extend the list of true and predicted labels\n",
    "        val_true_labels.extend(b_labels.cpu().numpy())\n",
    "        val_pred_labels.extend(predictions)\n",
    "\n",
    "    val_accuracy = total_correct / total\n",
    "    val_accuracies.append(val_accuracy)\n",
    "    avg_val_loss = total_eval_loss / len(val_loader)\n",
    "    print(f\"Epoch {epoch_i + 1}/{epochs} Validation Accuracy: {val_accuracy}\")\n",
    "    avg_val_loss = total_val_loss / len(val_loader)\n",
    "    val_losses.append(avg_val_loss)\n",
    "    print(f\"Epoch {epoch_i + 1}/{epochs} Validation Loss: {val_losses}\")\n",
    "    \n",
    "    # Early Stopping Check\n",
    "    if avg_val_loss < best_val_loss:\n",
    "        best_val_loss = avg_val_loss\n",
    "        epochs_no_improve = 0\n",
    "    else:\n",
    "        epochs_no_improve += 1\n",
    "        if epochs_no_improve == early_stopping_patience:\n",
    "            print(\"Early stopping triggered.\")\n",
    "            break\n",
    "\n",
    "print(\"Training and validation completed.\")\n"
   ]
  },
  {
   "cell_type": "markdown",
   "id": "5b61a7b9",
   "metadata": {},
   "source": [
    "## Plotting Training and Validation Accuracy"
   ]
  },
  {
   "cell_type": "code",
   "execution_count": null,
   "id": "d0101c8d",
   "metadata": {},
   "outputs": [],
   "source": [
    "# Plotting training and validation accuracy\n",
    "plt.figure(figsize=(8, 4))\n",
    "plt.plot(range(1, epochs+1), train_accuracies, label='Training Accuracy')\n",
    "plt.plot(range(1, epochs+1), val_accuracies, label='Validation Accuracy')\n",
    "plt.title('Training & Validation Accuracy')\n",
    "plt.xlabel('Epochs')\n",
    "plt.ylabel('Accuracy')\n",
    "plt.legend()\n",
    "plt.show()\n"
   ]
  },
  {
   "cell_type": "markdown",
   "id": "52a02b21",
   "metadata": {},
   "source": [
    "## Plot Training and Validation Loss"
   ]
  },
  {
   "cell_type": "code",
   "execution_count": null,
   "id": "b580a903",
   "metadata": {},
   "outputs": [],
   "source": [
    "plt.figure(figsize=(8, 4))\n",
    "\n",
    "# Plot training loss\n",
    "plt.plot(range(1, epochs + 1), train_losses, label='Training Loss')\n",
    "\n",
    "# Plot validation loss\n",
    "plt.plot(range(1, epochs + 1), val_losses, label='Validation Loss')\n",
    "\n",
    "# Adding title\n",
    "plt.title('Training and Validation Loss')\n",
    "\n",
    "# Adding labels\n",
    "plt.xlabel('Epochs')\n",
    "plt.ylabel('Loss')\n",
    "\n",
    "# Adding legend\n",
    "plt.legend()\n",
    "\n",
    "# Show plot\n",
    "plt.show()\n"
   ]
  },
  {
   "cell_type": "markdown",
   "id": "44d31d5a",
   "metadata": {},
   "source": [
    "## Plotting the Confusion Matrix"
   ]
  },
  {
   "cell_type": "code",
   "execution_count": null,
   "id": "71ce87bc",
   "metadata": {},
   "outputs": [],
   "source": [
    "# Compute confusion matrix\n",
    "cm = confusion_matrix(val_pred_labels, val_true_labels)\n",
    "\n",
    "# Plot confusion matrix\n",
    "plt.figure(figsize=(8, 6))\n",
    "sns.heatmap(cm, annot=True, fmt='d', cmap='Blues', xticklabels=label_encoder.classes_, yticklabels=label_encoder.classes_)\n",
    "plt.title('Confusion Matrix')\n",
    "plt.ylabel('Actual')\n",
    "plt.xlabel('Predicted')\n",
    "plt.show()\n"
   ]
  },
  {
   "cell_type": "markdown",
   "id": "c7ce3c30",
   "metadata": {},
   "source": [
    "## Saving the model"
   ]
  },
  {
   "cell_type": "code",
   "execution_count": null,
   "id": "f91b545c",
   "metadata": {},
   "outputs": [],
   "source": [
    "model_save_path = 'model_BERT'  # Specify your path here\n",
    "\n",
    "# Save the model\n",
    "model.save_pretrained(model_save_path)\n",
    "\n",
    "# Save the tokenizer associated with the model\n",
    "tokenizer.save_pretrained(model_save_path)\n",
    "\n",
    "print(f\"Model and tokenizer have been saved to {model_save_path}\")\n"
   ]
  },
  {
   "cell_type": "markdown",
   "id": "4fc62855",
   "metadata": {},
   "source": [
    "## Loading the model"
   ]
  },
  {
   "cell_type": "code",
   "execution_count": null,
   "id": "65aa8c51",
   "metadata": {},
   "outputs": [],
   "source": [
    "model_save_path = 'model_BERT'\n",
    "model = BertForSequenceClassification.from_pretrained(model_save_path)\n",
    "tokenizer = BertTokenizer.from_pretrained(model_save_path)\n",
    "print(\"Model is loaded\")"
   ]
  },
  {
   "cell_type": "markdown",
   "id": "d05a0d62",
   "metadata": {},
   "source": [
    "## Testing and Evaluation Metrics"
   ]
  },
  {
   "cell_type": "code",
   "execution_count": null,
   "id": "a6f88327",
   "metadata": {},
   "outputs": [],
   "source": [
    "# Check if CUDA is available and set the `use_cuda` variable\n",
    "use_cuda = torch.cuda.is_available()\n",
    "print(\"Start: Testing loop...\")\n",
    "criterion = torch.nn.CrossEntropyLoss()\n",
    "\n",
    "model.eval()\n",
    "test_preds = []\n",
    "test_true_labels = []\n",
    "test_loss = 0.0\n",
    "\n",
    "# Iterate over the test data using 'test_loader'\n",
    "for batch in tqdm(test_loader, desc=\"Testing\"):\n",
    "    b_input_ids, b_input_mask, b_labels = tuple(t.to(device) for t in batch)\n",
    "    \n",
    "    # Forward pass, calculate logit predictions\n",
    "    with torch.no_grad():\n",
    "        with autocast(enabled=use_cuda):\n",
    "            outputs = model(b_input_ids, token_type_ids=None, attention_mask=b_input_mask)\n",
    "            logits = outputs.logits\n",
    "\n",
    "        # Calculate the loss\n",
    "        loss = criterion(logits, b_labels)\n",
    "        test_loss += loss.item()\n",
    "\n",
    "    logits = logits.detach().cpu().numpy()\n",
    "    label_ids = b_labels.to('cpu').numpy()\n",
    "\n",
    "    # Store predictions and true labels\n",
    "    test_preds.extend(np.argmax(logits, axis=1))\n",
    "    test_true_labels.extend(label_ids)\n",
    "\n",
    "# Calculate the average loss over the test set\n",
    "avg_test_loss = test_loss / len(test_loader)\n",
    "print(f\"Average Test Loss: {avg_test_loss}\")\n",
    "\n",
    "print(\"End: Testing completed.\")\n",
    "\n",
    "# Calculate and print other metrics\n",
    "accuracy = accuracy_score(test_true_labels, test_preds)\n",
    "precision, recall, f1, _ = precision_recall_fscore_support(test_true_labels, test_preds, average='weighted')\n",
    "\n",
    "print(f\"Testing Accuracy: {accuracy}\")\n",
    "print(f\"Testing Precision: {precision}\")\n",
    "print(f\"Testing Recall: {recall}\")\n",
    "print(f\"Testing F1 Score: {f1}\")\n"
   ]
  },
  {
   "cell_type": "markdown",
   "id": "4ab0da83",
   "metadata": {},
   "source": [
    "## Predicting Sentiments of given sentences"
   ]
  },
  {
   "cell_type": "code",
   "execution_count": null,
   "id": "6f034941",
   "metadata": {},
   "outputs": [],
   "source": [
    "def predict_class(text):\n",
    "    '''Function to predict sentiment class of the passed text'''\n",
    "    sentiment_classes = ['Negative', 'Neutral', 'Positive']\n",
    "    max_len = 250\n",
    "\n",
    "    # Tokenizing and encoding the text for BERT\n",
    "    inputs = tokenizer.encode_plus(text, add_special_tokens=True, max_length=max_len, padding='max_length', truncation=True, return_tensors='pt')\n",
    "    input_ids = inputs['input_ids']\n",
    "    attention_mask = inputs['attention_mask']\n",
    "\n",
    "    # Prediction\n",
    "    with torch.no_grad():\n",
    "        outputs = model(input_ids, attention_mask=attention_mask)\n",
    "        predictions = torch.nn.functional.softmax(outputs.logits, dim=1)\n",
    "        predicted_class = torch.argmax(predictions).item()\n",
    "\n",
    "    print('The predicted sentiment is', sentiment_classes[predicted_class])\n"
   ]
  },
  {
   "cell_type": "code",
   "execution_count": null,
   "id": "c72a8041",
   "metadata": {},
   "outputs": [],
   "source": [
    "predict_class(\"The coffee, food, and service were all excellent! They offer a light and dark roast of coffee, I chose the light roast and it was great. I also had the Green Eggs & Ham sandwich which was made fresh to order and very delicious. As a cute touch they also gave me and other customers mini cupcakes for free. Will definitely be going back!\")"
   ]
  },
  {
   "cell_type": "code",
   "execution_count": null,
   "id": "ef1742a0",
   "metadata": {},
   "outputs": [],
   "source": [
    "predict_class(\"the service was okieshh! ~ ~ ~ consider only you don't have any option\")"
   ]
  },
  {
   "cell_type": "code",
   "execution_count": null,
   "id": "53cb18ac",
   "metadata": {},
   "outputs": [],
   "source": []
  }
 ],
 "metadata": {
  "kernelspec": {
   "display_name": "Python 3 (ipykernel)",
   "language": "python",
   "name": "python3"
  },
  "language_info": {
   "codemirror_mode": {
    "name": "ipython",
    "version": 3
   },
   "file_extension": ".py",
   "mimetype": "text/x-python",
   "name": "python",
   "nbconvert_exporter": "python",
   "pygments_lexer": "ipython3",
   "version": "3.11.4"
  }
 },
 "nbformat": 4,
 "nbformat_minor": 5
}
